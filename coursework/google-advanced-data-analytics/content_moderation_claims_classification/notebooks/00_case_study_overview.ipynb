{
 "cells": [
  {
   "cell_type": "markdown",
   "id": "2569f2dc",
   "metadata": {},
   "source": "# TikTok Claims Classification — 00: Case Study Overview\n\n***Automated classification of TikTok videos as factual claims vs. subjective opinions to accelerate content moderation***\n\n**Author:** Katherine Ygbuhay  \n**Updated:** 2025-01-04  \n**Stage:** 00 — Project Overview  \n**Runtime:** ~5 minutes  \n\n## Objective\n\nDevelop and evaluate machine learning models to automatically classify TikTok videos as factual claims vs. subjective opinions, enabling faster content moderation and reducing review backlog.\n\n## Scope & Approach\n\n- **Binary classification** of flagged TikTok videos using engagement and content features\n- **Model comparison** across Logistic Regression, Random Forest, and XGBoost  \n- **Performance evaluation** focused on precision/recall for claims detection\n- **Business recommendation** with deployment strategy and monitoring plan\n\n## Key Outputs\n\n- Champion model selection with performance metrics\n- Feature importance analysis and business insights\n- Deployment recommendation with monitoring strategy\n- Executive summary and stakeholder reports\n\n## Prerequisites\n\n- Sample dataset of flagged TikTok videos with `claim_status` labels\n- Understanding of content moderation business context\n\n---"
  },
  {
   "cell_type": "markdown",
   "id": "caf5aa39",
   "metadata": {},
   "source": [
    "## Dataset (At a Glance)\n",
    "- Source: Flagged TikTok videos (sample, non-sensitive)\n",
    "- Target: `claim_status` ∈ {`Claim`, `Opinion`}\n",
    "- Key features: duration (sec), views, likes, shares, comments, text length\n",
    "- Notes: English-only in this phase; account metadata contributed minimally\n"
   ]
  },
  {
   "cell_type": "markdown",
   "id": "b5cc3b15",
   "metadata": {},
   "source": [
    "## Methods (Summary)\n",
    "- Baseline: Logistic Regression\n",
    "- Advanced: Random Forest, XGBoost\n",
    "- **Champion:** Random Forest (balanced precision/recall, interpretability)\n"
   ]
  },
  {
   "cell_type": "markdown",
   "id": "1269a8d2",
   "metadata": {},
   "source": [
    "## Key Results\n",
    "- **Random Forest (Test Set)**  \n",
    "  - Recall (Claim) = **0.997**  \n",
    "  - Precision (Claim) = **1.000**  \n",
    "  - F1 (Claim) = **0.998**  \n",
    "  - Accuracy (Overall) = **0.998**  \n",
    "\n",
    "- Engagement features (views, likes, shares, duration) were the strongest predictors.  \n",
    "- Metadata features (verification, ban status) contributed minimally.\n"
   ]
  },
  {
   "cell_type": "markdown",
   "id": "d94da57d",
   "metadata": {},
   "source": [
    "## Visuals\n\n![Confusion Matrix — Random Forest (Test)](../reports/figures/figures_06_tree_models_recommendation/rf_test_confusion_matrix_counts.png)  \n\n![Feature Importances — Random Forest](../reports/figures/figures_06_tree_models_recommendation/rf_feature_importances.png)  \n"
   ]
  },
  {
   "cell_type": "markdown",
   "id": "aff24805",
   "metadata": {},
   "source": [
    "## Minimal Workflow (For Readers)\n",
    "1. Load and clean data  \n",
    "2. Feature engineering (text length; engagement ratios)  \n",
    "3. Model training and tuning (RF, XGB)  \n",
    "4. Evaluate (accuracy, precision, recall, F1; confusion matrices)  \n",
    "5. Interpret (feature importances) and recommend champion model\n"
   ]
  },
  {
   "cell_type": "markdown",
   "id": "0a3cb116",
   "metadata": {},
   "source": [
    "## Recommendation (TL;DR)\n",
    "- **Deploy**: Random Forest pipeline as champion model  \n",
    "- **Monitor**: Monthly precision/recall for `Claim` class; alert on >2–3 pt swings  \n",
    "- **Human-in-the-loop**: Preserve reviewer override; audit false negatives weekly  \n",
    "- **Next phase**: Add report-based metrics & multilingual support\n"
   ]
  },
  {
   "cell_type": "markdown",
   "id": "3105c86e",
   "metadata": {},
   "source": [
    "## Links\n",
    "- [Executive Summary](../docs/stakeholders/executive_summary_tiktok_claims.md)  \n",
    "- [Evaluation & Recommendation Report](../docs/stakeholders/evaluation_recommendation_report_tiktok_claims.md)  \n",
    "- Full Notebooks: `02_data_exploration.ipynb` → `06_tree_models_recommendation.ipynb`\n"
   ]
  }
 ],
 "metadata": {
  "kernelspec": {
   "display_name": "Python 3 (ipykernel)",
   "language": "python",
   "name": "python3"
  },
  "language_info": {
   "codemirror_mode": {
    "name": "ipython",
    "version": 3
   },
   "file_extension": ".py",
   "mimetype": "text/x-python",
   "name": "python",
   "nbconvert_exporter": "python",
   "pygments_lexer": "ipython3",
   "version": "3.10.12"
  }
 },
 "nbformat": 4,
 "nbformat_minor": 5
}