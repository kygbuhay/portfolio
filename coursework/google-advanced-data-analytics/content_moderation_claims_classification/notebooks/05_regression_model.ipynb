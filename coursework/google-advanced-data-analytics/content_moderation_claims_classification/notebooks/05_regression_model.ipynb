{
 "cells": [
  {
   "cell_type": "markdown",
   "metadata": {},
   "source": "# TikTok Claims Classification — 05: Logistic Regression Model\n\n***Baseline logistic regression model to predict account verification status using engagement and content features***\n\n**Author:** Katherine Ygbuhay  \n**Updated:** 2025-10-04  \n**Stage:** 05 — Baseline Modeling  \n**Runtime:** ~30 minutes  \n\n## Objective\n\nDevelop and evaluate a logistic regression model to predict whether a TikTok account is verified, based on engagement metrics and content features, establishing a baseline for subsequent model comparisons.\n\n## Scope & Approach\n\n- **Data preparation** with missing value handling and feature selection based on correlation analysis\n- **Class imbalance management** through stratified sampling and upsampling techniques\n- **Feature engineering** including text length extraction and categorical encoding\n- **Model training** with scaled features and threshold optimization for imbalanced classification\n- **Performance evaluation** using precision, recall, F1-score, and ROC-AUC metrics\n\n## Key Outputs\n\n- Baseline logistic regression model with optimized classification threshold\n- Performance metrics emphasizing minority class (verified accounts) detection\n- Feature importance analysis through coefficient interpretation\n- Confusion matrices and classification reports for model validation\n- Recommendations for model improvement and next steps\n\n## Prerequisites\n\n- Cleaned TikTok dataset from exploratory analysis stages\n- Understanding of logistic regression assumptions and imbalanced classification challenges\n- Familiarity with scikit-learn preprocessing and evaluation workflows\n\n---"
  },
  {
   "cell_type": "markdown",
   "metadata": {
    "id": "D8qYlvkLQsf2"
   },
   "source": [
    "### Imports and Readability Settings"
   ]
  },
  {
   "cell_type": "code",
   "execution_count": 1,
   "metadata": {
    "id": "tCni9wAGphb0"
   },
   "outputs": [],
   "source": [
    "# ============================================================\n",
    "# Imports\n",
    "# ============================================================\n",
    "\n",
    "# Data manipulation\n",
    "import pandas as pd\n",
    "import numpy as np\n",
    "\n",
    "# Visualization\n",
    "import matplotlib.pyplot as plt\n",
    "import seaborn as sns\n",
    "\n",
    "# Preprocessing and resampling\n",
    "from sklearn.preprocessing import OneHotEncoder, StandardScaler\n",
    "from sklearn.feature_extraction.text import CountVectorizer, TfidfVectorizer\n",
    "from sklearn.utils import resample\n",
    "from sklearn.compose import ColumnTransformer\n",
    "from sklearn.pipeline import Pipeline\n",
    "\n",
    "# Modeling and evaluation\n",
    "from sklearn.model_selection import train_test_split\n",
    "from sklearn.linear_model import LogisticRegression\n",
    "from sklearn.metrics import (\n",
    "    classification_report,\n",
    "    confusion_matrix,\n",
    "    ConfusionMatrixDisplay,\n",
    "    precision_recall_curve,\n",
    "    roc_auc_score,\n",
    ")"
   ]
  },
  {
   "cell_type": "code",
   "execution_count": 2,
   "metadata": {},
   "outputs": [],
   "source": [
    "# Pandas display settings (improves readability in notebooks)\n",
    "pd.options.display.float_format = '{:.3f}'.format\n",
    "pd.set_option(\"display.max_columns\", None)   # show all columns\n",
    "pd.set_option(\"display.max_rows\", 100)       # up to 100 rows\n",
    "\n",
    "# Seaborn theme for readability + accessibility\n",
    "# - \"whitegrid\" for clarity\n",
    "# - \"colorblind\" = Okabe–Ito palette (colorblind-friendly)\n",
    "sns.set_theme(style=\"whitegrid\", palette=\"colorblind\")\n",
    "\n",
    "# Matplotlib defaults for consistent figure sizing & typography\n",
    "import matplotlib as mpl\n",
    "mpl.rcParams[\"figure.figsize\"] = (7, 5)\n",
    "mpl.rcParams[\"axes.titlesize\"] = 14\n",
    "mpl.rcParams[\"axes.labelsize\"] = 12\n",
    "mpl.rcParams[\"legend.title_fontsize\"] = 11\n",
    "mpl.rcParams[\"legend.fontsize\"] = 10\n",
    "\n",
    "# Consistent color palettes for categorical variables\n",
    "claim_palette = {\"claim\": \"#0072B2\", \"opinion\": \"#E69F00\"}                 \n",
    "verified_palette = {\"verified\": \"#009E73\", \"not verified\": \"#0072B2\"}      \n",
    "ban_palette = {\n",
    "    \"active\": \"#0072B2\", \n",
    "    \"under review\": \"#E69F00\", \n",
    "    \"banned\": \"#D55E00\"\n",
    "}"
   ]
  },
  {
   "cell_type": "code",
   "execution_count": 3,
   "metadata": {},
   "outputs": [],
   "source": [
    "# Resolve the case-study root so paths work from any launch directory\n",
    "from pathlib import Path\n",
    "\n",
    "def find_case_root(start: Path | None = None) -> Path:\n",
    "    p = start or Path.cwd()\n",
    "    for q in [p, *p.parents]:\n",
    "        if (q / \"notebooks\").exists() and (q / \"data\").exists():\n",
    "            return q\n",
    "    return p  # fallback\n",
    "\n",
    "CASE_ROOT = find_case_root()\n",
    "DATA_FILE = CASE_ROOT / \"data\" / \"raw\" / \"tiktok_dataset.csv\"\n",
    "assert DATA_FILE.exists(), f\"Missing data file: {DATA_FILE}\""
   ]
  },
  {
   "cell_type": "code",
   "execution_count": 4,
   "metadata": {
    "id": "C9ODhaOppqlw"
   },
   "outputs": [],
   "source": [
    "# Load dataset\n",
    "df = pd.read_csv(DATA_FILE)"
   ]
  },
  {
   "cell_type": "markdown",
   "metadata": {},
   "source": [
    "### Data Recap and Cleaning Prior to Modeling  \n",
    "\n",
    "The dataset is reloaded from the raw source. A concise cleaning step removes missing values to ensure complete cases, followed by a structural recap and summary of engagement metrics. This ensures consistency with earlier stages while keeping the focus on modeling."
   ]
  },
  {
   "cell_type": "code",
   "execution_count": 5,
   "metadata": {
    "id": "2rfk95MLp4a_",
    "scrolled": true
   },
   "outputs": [
    {
     "name": "stdout",
     "output_type": "stream",
     "text": [
      "Total missing values in dataset: 2,086\n",
      "Dataset shape after dropping missing values: (19084, 12)\n"
     ]
    },
    {
     "data": {
      "text/html": [
       "<div>\n",
       "<style scoped>\n",
       "    .dataframe tbody tr th:only-of-type {\n",
       "        vertical-align: middle;\n",
       "    }\n",
       "\n",
       "    .dataframe tbody tr th {\n",
       "        vertical-align: top;\n",
       "    }\n",
       "\n",
       "    .dataframe thead th {\n",
       "        text-align: right;\n",
       "    }\n",
       "</style>\n",
       "<table border=\"1\" class=\"dataframe\">\n",
       "  <thead>\n",
       "    <tr style=\"text-align: right;\">\n",
       "      <th></th>\n",
       "      <th>count</th>\n",
       "      <th>mean</th>\n",
       "      <th>std</th>\n",
       "      <th>min</th>\n",
       "      <th>25%</th>\n",
       "      <th>50%</th>\n",
       "      <th>75%</th>\n",
       "      <th>max</th>\n",
       "    </tr>\n",
       "  </thead>\n",
       "  <tbody>\n",
       "    <tr>\n",
       "      <th>video_view_count</th>\n",
       "      <td>19084.000</td>\n",
       "      <td>254708.559</td>\n",
       "      <td>322893.281</td>\n",
       "      <td>20.000</td>\n",
       "      <td>4942.500</td>\n",
       "      <td>9954.500</td>\n",
       "      <td>504327.000</td>\n",
       "      <td>999817.000</td>\n",
       "    </tr>\n",
       "    <tr>\n",
       "      <th>video_like_count</th>\n",
       "      <td>19084.000</td>\n",
       "      <td>84304.636</td>\n",
       "      <td>133420.547</td>\n",
       "      <td>0.000</td>\n",
       "      <td>810.750</td>\n",
       "      <td>3403.500</td>\n",
       "      <td>125020.000</td>\n",
       "      <td>657830.000</td>\n",
       "    </tr>\n",
       "    <tr>\n",
       "      <th>video_comment_count</th>\n",
       "      <td>19084.000</td>\n",
       "      <td>349.312</td>\n",
       "      <td>799.639</td>\n",
       "      <td>0.000</td>\n",
       "      <td>1.000</td>\n",
       "      <td>9.000</td>\n",
       "      <td>292.000</td>\n",
       "      <td>9599.000</td>\n",
       "    </tr>\n",
       "    <tr>\n",
       "      <th>video_share_count</th>\n",
       "      <td>19084.000</td>\n",
       "      <td>16735.248</td>\n",
       "      <td>32036.174</td>\n",
       "      <td>0.000</td>\n",
       "      <td>115.000</td>\n",
       "      <td>717.000</td>\n",
       "      <td>18222.000</td>\n",
       "      <td>256130.000</td>\n",
       "    </tr>\n",
       "    <tr>\n",
       "      <th>video_download_count</th>\n",
       "      <td>19084.000</td>\n",
       "      <td>1049.430</td>\n",
       "      <td>2004.300</td>\n",
       "      <td>0.000</td>\n",
       "      <td>7.000</td>\n",
       "      <td>46.000</td>\n",
       "      <td>1156.250</td>\n",
       "      <td>14994.000</td>\n",
       "    </tr>\n",
       "  </tbody>\n",
       "</table>\n",
       "</div>"
      ],
      "text/plain": [
       "                         count       mean        std    min      25%      50%  \\\n",
       "video_view_count     19084.000 254708.559 322893.281 20.000 4942.500 9954.500   \n",
       "video_like_count     19084.000  84304.636 133420.547  0.000  810.750 3403.500   \n",
       "video_comment_count  19084.000    349.312    799.639  0.000    1.000    9.000   \n",
       "video_share_count    19084.000  16735.248  32036.174  0.000  115.000  717.000   \n",
       "video_download_count 19084.000   1049.430   2004.300  0.000    7.000   46.000   \n",
       "\n",
       "                            75%        max  \n",
       "video_view_count     504327.000 999817.000  \n",
       "video_like_count     125020.000 657830.000  \n",
       "video_comment_count     292.000   9599.000  \n",
       "video_share_count     18222.000 256130.000  \n",
       "video_download_count   1156.250  14994.000  "
      ]
     },
     "metadata": {},
     "output_type": "display_data"
    }
   ],
   "source": [
    "# --- Cleaning: handle missing values ---\n",
    "missing_counts = df.isna().sum()\n",
    "total_missing = missing_counts.sum()\n",
    "print(f\"Total missing values in dataset: {total_missing:,}\")\n",
    "\n",
    "# Drop rows with any missing values\n",
    "df = df.dropna()\n",
    "print(f\"Dataset shape after dropping missing values: {df.shape}\")\n",
    "\n",
    "# --- Recap: descriptive statistics for engagement metrics ---\n",
    "metrics = [\n",
    "    \"video_view_count\",\n",
    "    \"video_like_count\",\n",
    "    \"video_comment_count\",\n",
    "    \"video_share_count\",\n",
    "    \"video_download_count\",\n",
    "]\n",
    "\n",
    "cols_to_check = [c for c in metrics if c in df.columns]\n",
    "if cols_to_check:\n",
    "    display(df[cols_to_check].describe().T)\n",
    "else:\n",
    "    num_cols = df.select_dtypes(include=\"number\").columns.tolist()\n",
    "    display(df[num_cols].describe().T)"
   ]
  },
  {
   "cell_type": "markdown",
   "metadata": {},
   "source": [
    "**Summary**  \n",
    "All missing values were removed, yielding a consistent dataset for regression analysis. Engagement metrics remain highly skewed, reflecting the distribution typical of viral content on social media platforms. The dataset is clean, stable, and ready for modeling."
   ]
  },
  {
   "cell_type": "markdown",
   "metadata": {
    "id": "rIcDG2e66wt9"
   },
   "source": [
    "### Data Integrity Checks (Duplicates & Outliers)  \n",
    "\n",
    "To validate suitability for modeling, potential data quality issues are reviewed. This includes checking for duplicate rows and profiling numeric variables for extreme values (outliers). These checks help ensure the dataset is representative and not distorted by data entry errors or anomalies.  "
   ]
  },
  {
   "cell_type": "code",
   "execution_count": 6,
   "metadata": {
    "scrolled": true
   },
   "outputs": [
    {
     "name": "stdout",
     "output_type": "stream",
     "text": [
      "Duplicate rows (exact): 0 (0.00%)\n",
      "Duplicate video_id values: 0 (0.00%)\n",
      "\n",
      "\n"
     ]
    },
    {
     "data": {
      "image/png": "[encoded data removed]",
      "text/plain": [
       "<Figure size 800x1120 with 4 Axes>"
      ]
     },
     "metadata": {},
     "output_type": "display_data"
    }
   ],
   "source": [
    "# Duplicate checks\n",
    "dup_total = df.duplicated().sum()\n",
    "dup_pct = 100 * dup_total / len(df)\n",
    "print(f\"Duplicate rows (exact): {dup_total:,} ({dup_pct:.2f}%)\")\n",
    "\n",
    "# Key-level duplicate check (video_id is expected to be unique)\n",
    "if \"video_id\" in df.columns:\n",
    "    dup_key = df.duplicated(subset=[\"video_id\"]).sum()\n",
    "    dup_key_pct = 100 * dup_key / len(df)\n",
    "    print(f\"Duplicate video_id values: {dup_key:,} ({dup_key_pct:.2f}%)\")\n",
    "\n",
    "if dup_total > 0:\n",
    "    display(df[df.duplicated()].head())\n",
    "\n",
    "# Spacer for readability before figure output\n",
    "print(\"\\n\")\n",
    "\n",
    "# Outlier profiling for selected numeric variables\n",
    "vars_for_outliers = [\n",
    "    \"video_duration_sec\",\n",
    "    \"video_view_count\",\n",
    "    \"video_like_count\",\n",
    "    \"video_comment_count\",\n",
    "]\n",
    "vars_for_outliers = [v for v in vars_for_outliers if v in df.columns]\n",
    "\n",
    "fig, axes = plt.subplots(\n",
    "    nrows=len(vars_for_outliers),\n",
    "    figsize=(8, 2.8 * len(vars_for_outliers))  # taller plots = more vertical spacing\n",
    ")\n",
    "fig.suptitle(\"Outlier Checks for Key Variables\", fontsize=15, y=1.03)\n",
    "\n",
    "if len(vars_for_outliers) == 1:\n",
    "    axes = [axes]\n",
    "\n",
    "for ax, var in zip(axes, vars_for_outliers):\n",
    "    # Clean, readable titles with manual override for duration\n",
    "    if var == \"video_duration_sec\":\n",
    "        title = \"Video Duration (Seconds)\"\n",
    "    else:\n",
    "        title = var.replace(\"_\", \" \").title()\n",
    "    \n",
    "    sns.boxplot(x=df[var], ax=ax, color=sns.color_palette()[0], whis=1.5, fliersize=2)\n",
    "    ax.set_title(title, fontsize=13)  # bumped up font size slightly\n",
    "    ax.set_xlabel(\"\")\n",
    "\n",
    "plt.tight_layout(rect=[0, 0, 1, 0.96])  # leaves room for suptitle + spacing\n",
    "plt.show()"
   ]
  },
  {
   "cell_type": "markdown",
   "metadata": {
    "id": "eDcY0ZaEJgDl"
   },
   "source": [
    "**Summary**  \n",
    "No duplicate records were identified, confirming dataset integrity at the row and key level. Outlier checks show highly skewed engagement metrics, which is expected in social media contexts where a small subset of content drives disproportionate activity. Outliers are retained at this stage to preserve variance for modeling, with the option to revisit transformations or capping if regression diagnostics later indicate sensitivity."
   ]
  },
  {
   "cell_type": "markdown",
   "metadata": {},
   "source": [
    "### Class Balance and Resampling  \n",
    "\n",
    "The dataset is heavily imbalanced: the majority of videos are posted by unverified accounts, while verified accounts form only a small fraction.  \n",
    "To address this, the minority class was upsampled to achieve a balanced training set, enabling the model to learn from both classes more effectively.  \n",
    "A fixed random seed (`random_state=42`) was applied during resampling to ensure reproducibility — the same verified accounts are consistently selected when the notebook is re-run."
   ]
  },
  {
   "cell_type": "code",
   "execution_count": 7,
   "metadata": {
    "id": "e3klRqlsJhtp",
    "scrolled": true
   },
   "outputs": [],
   "source": [
    "from sklearn.model_selection import train_test_split\n",
    "from sklearn.utils import resample\n",
    "\n",
    "def report_class_balance(df, target_col=\"verified_status\", test_size=0.2, random_state=42):\n",
    "    \"\"\"\n",
    "    Split into train/test, apply optional upsampling to the training set,\n",
    "    and generate class balance reports with summary tables and charts.\n",
    "    \"\"\"\n",
    "    # Stratified split\n",
    "    train_df, test_df = train_test_split(\n",
    "        df,\n",
    "        test_size=test_size,\n",
    "        stratify=df[target_col],\n",
    "        random_state=random_state,\n",
    "    )\n",
    "\n",
    "    # Separate majority and minority in training\n",
    "    maj_label = train_df[target_col].value_counts().idxmax()\n",
    "    min_label = train_df[target_col].value_counts().idxmin()\n",
    "\n",
    "    maj = train_df[train_df[target_col] == maj_label]\n",
    "    minr = train_df[train_df[target_col] == min_label]\n",
    "\n",
    "    # Upsample minority if imbalance exists\n",
    "    if len(minr) > 0 and len(minr) < len(maj):\n",
    "        min_up = resample(\n",
    "            minr,\n",
    "            replace=True,\n",
    "            n_samples=len(maj),\n",
    "            random_state=random_state,\n",
    "        )\n",
    "        train_balanced = (\n",
    "            pd.concat([maj, min_up])\n",
    "            .sample(frac=1, random_state=random_state)\n",
    "            .reset_index(drop=True)\n",
    "        )\n",
    "    else:\n",
    "        train_balanced = train_df.copy()\n",
    "\n",
    "    return train_df, test_df, train_balanced"
   ]
  },
  {
   "cell_type": "code",
   "execution_count": 8,
   "metadata": {},
   "outputs": [
    {
     "name": "stdout",
     "output_type": "stream",
     "text": [
      "=== Class proportions in full dataset ===\n",
      "verified_status\n",
      "not verified   0.937\n",
      "verified       0.063\n",
      "Name: proportion, dtype: float64\n"
     ]
    }
   ],
   "source": [
    "# Baseline class proportions across the entire dataset\n",
    "print(\"=== Class proportions in full dataset ===\")\n",
    "print(df[\"verified_status\"].value_counts(normalize=True).round(5))"
   ]
  },
  {
   "cell_type": "code",
   "execution_count": 9,
   "metadata": {},
   "outputs": [
    {
     "name": "stdout",
     "output_type": "stream",
     "text": [
      "\n",
      "Training (original)\n"
     ]
    },
    {
     "data": {
      "text/html": [
       "<div>\n",
       "<style scoped>\n",
       "    .dataframe tbody tr th:only-of-type {\n",
       "        vertical-align: middle;\n",
       "    }\n",
       "\n",
       "    .dataframe tbody tr th {\n",
       "        vertical-align: top;\n",
       "    }\n",
       "\n",
       "    .dataframe thead th {\n",
       "        text-align: right;\n",
       "    }\n",
       "</style>\n",
       "<table border=\"1\" class=\"dataframe\">\n",
       "  <thead>\n",
       "    <tr style=\"text-align: right;\">\n",
       "      <th></th>\n",
       "      <th>count</th>\n",
       "      <th>proportion</th>\n",
       "    </tr>\n",
       "    <tr>\n",
       "      <th>verified_status</th>\n",
       "      <th></th>\n",
       "      <th></th>\n",
       "    </tr>\n",
       "  </thead>\n",
       "  <tbody>\n",
       "    <tr>\n",
       "      <th>not verified</th>\n",
       "      <td>14307</td>\n",
       "      <td>0.937</td>\n",
       "    </tr>\n",
       "    <tr>\n",
       "      <th>verified</th>\n",
       "      <td>960</td>\n",
       "      <td>0.063</td>\n",
       "    </tr>\n",
       "  </tbody>\n",
       "</table>\n",
       "</div>"
      ],
      "text/plain": [
       "                 count  proportion\n",
       "verified_status                   \n",
       "not verified     14307       0.937\n",
       "verified           960       0.063"
      ]
     },
     "metadata": {},
     "output_type": "display_data"
    },
    {
     "name": "stdout",
     "output_type": "stream",
     "text": [
      "\n",
      "Training (balanced)\n"
     ]
    },
    {
     "data": {
      "text/html": [
       "<div>\n",
       "<style scoped>\n",
       "    .dataframe tbody tr th:only-of-type {\n",
       "        vertical-align: middle;\n",
       "    }\n",
       "\n",
       "    .dataframe tbody tr th {\n",
       "        vertical-align: top;\n",
       "    }\n",
       "\n",
       "    .dataframe thead th {\n",
       "        text-align: right;\n",
       "    }\n",
       "</style>\n",
       "<table border=\"1\" class=\"dataframe\">\n",
       "  <thead>\n",
       "    <tr style=\"text-align: right;\">\n",
       "      <th></th>\n",
       "      <th>count</th>\n",
       "      <th>proportion</th>\n",
       "    </tr>\n",
       "    <tr>\n",
       "      <th>verified_status</th>\n",
       "      <th></th>\n",
       "      <th></th>\n",
       "    </tr>\n",
       "  </thead>\n",
       "  <tbody>\n",
       "    <tr>\n",
       "      <th>verified</th>\n",
       "      <td>14307</td>\n",
       "      <td>0.500</td>\n",
       "    </tr>\n",
       "    <tr>\n",
       "      <th>not verified</th>\n",
       "      <td>14307</td>\n",
       "      <td>0.500</td>\n",
       "    </tr>\n",
       "  </tbody>\n",
       "</table>\n",
       "</div>"
      ],
      "text/plain": [
       "                 count  proportion\n",
       "verified_status                   \n",
       "verified         14307       0.500\n",
       "not verified     14307       0.500"
      ]
     },
     "metadata": {},
     "output_type": "display_data"
    },
    {
     "name": "stdout",
     "output_type": "stream",
     "text": [
      "\n",
      "Test (held-out)\n"
     ]
    },
    {
     "data": {
      "text/html": [
       "<div>\n",
       "<style scoped>\n",
       "    .dataframe tbody tr th:only-of-type {\n",
       "        vertical-align: middle;\n",
       "    }\n",
       "\n",
       "    .dataframe tbody tr th {\n",
       "        vertical-align: top;\n",
       "    }\n",
       "\n",
       "    .dataframe thead th {\n",
       "        text-align: right;\n",
       "    }\n",
       "</style>\n",
       "<table border=\"1\" class=\"dataframe\">\n",
       "  <thead>\n",
       "    <tr style=\"text-align: right;\">\n",
       "      <th></th>\n",
       "      <th>count</th>\n",
       "      <th>proportion</th>\n",
       "    </tr>\n",
       "    <tr>\n",
       "      <th>verified_status</th>\n",
       "      <th></th>\n",
       "      <th></th>\n",
       "    </tr>\n",
       "  </thead>\n",
       "  <tbody>\n",
       "    <tr>\n",
       "      <th>not verified</th>\n",
       "      <td>3577</td>\n",
       "      <td>0.937</td>\n",
       "    </tr>\n",
       "    <tr>\n",
       "      <th>verified</th>\n",
       "      <td>240</td>\n",
       "      <td>0.063</td>\n",
       "    </tr>\n",
       "  </tbody>\n",
       "</table>\n",
       "</div>"
      ],
      "text/plain": [
       "                 count  proportion\n",
       "verified_status                   \n",
       "not verified      3577       0.937\n",
       "verified           240       0.063"
      ]
     },
     "metadata": {},
     "output_type": "display_data"
    },
    {
     "name": "stdout",
     "output_type": "stream",
     "text": [
      "\n",
      "Dataset sizes:\n",
      "Training (original): 15,267 rows\n",
      "Training (balanced): 28,614 rows\n",
      "Test (held-out): 3,817 rows\n"
     ]
    }
   ],
   "source": [
    "# Stratified split and resampling applied only to the training set\n",
    "train_df, test_df, train_balanced = report_class_balance(df)\n",
    "\n",
    "def show_balance_table(frame, label):\n",
    "    vc = frame[\"verified_status\"].value_counts()\n",
    "    prop = (vc / vc.sum()).round(4).rename(\"proportion\")\n",
    "    tbl = pd.concat([vc.rename(\"count\"), prop], axis=1)\n",
    "    print(f\"\\n{label}\")\n",
    "    display(tbl)\n",
    "\n",
    "# Balance tables for each partition\n",
    "show_balance_table(train_df, \"Training (original)\")\n",
    "show_balance_table(train_balanced, \"Training (balanced)\")\n",
    "show_balance_table(test_df, \"Test (held-out)\")\n",
    "\n",
    "# Audit dataset sizes to confirm split and resampling\n",
    "print(\"\\nDataset sizes:\")\n",
    "print(f\"Training (original): {len(train_df):,} rows\")\n",
    "print(f\"Training (balanced): {len(train_balanced):,} rows\")\n",
    "print(f\"Test (held-out): {len(test_df):,} rows\")"
   ]
  },
  {
   "cell_type": "markdown",
   "metadata": {},
   "source": [
    "The dataset shows strong imbalance, with unverified accounts forming the overwhelming majority.  \n",
    "After stratified splitting, the training set was upsampled to restore balance, while the held-out test set retains the natural distribution.  \n",
    "This ensures the model trains on balanced data while being evaluated on real-world proportions.  "
   ]
  },
  {
   "cell_type": "code",
   "execution_count": 10,
   "metadata": {},
   "outputs": [
    {
     "data": {
      "image/png": "[encoded data removed]",
      "text/plain": [
       "<Figure size 700x500 with 1 Axes>"
      ]
     },
     "metadata": {},
     "output_type": "display_data"
    }
   ],
   "source": [
    "# Bar chart of class proportions (full dataset)\n",
    "balance = df[\"verified_status\"].value_counts(normalize=True) * 100\n",
    "ax = balance.sort_values(ascending=False).plot(kind=\"bar\", color=sns.color_palette())\n",
    "ax.set_ylabel(\"Proportion (%)\")\n",
    "ax.set_xlabel(\"\")\n",
    "ax.set_title(\"Class Balance: verified_status\")\n",
    "\n",
    "# Annotate percentages above bars\n",
    "for p in ax.patches:\n",
    "    ax.annotate(f\"{p.get_height():.1f}%\", \n",
    "                (p.get_x() + p.get_width()/2, p.get_height()),\n",
    "                ha=\"center\", va=\"bottom\", fontsize=10)\n",
    "plt.show()"
   ]
  },
  {
   "cell_type": "markdown",
   "metadata": {},
   "source": [
    "The visualization highlights the imbalance more clearly. \n",
    "\n",
    "**Summary**  \n",
    "The class distribution is highly skewed, with ~94% of posts from unverified accounts compared to ~6% from verified accounts. This imbalance underscores the importance of class-aware strategies in model training and evaluation. Stratified sampling preserved the distribution in the test set, while upsampling was applied to the training set to create a balanced partition for modeling. "
   ]
  },
  {
   "cell_type": "markdown",
   "metadata": {},
   "source": [
    "### Correlation Analysis  \n",
    "\n",
    "This section examines relationships among numeric features to detect potential multicollinearity, which can undermine logistic regression assumptions.  \n",
    "Correlations are assessed via both a numeric matrix and a heatmap, followed by profiling of the engineered `text_length` feature to evaluate its readiness for modeling.  "
   ]
  },
  {
   "cell_type": "code",
   "execution_count": 11,
   "metadata": {},
   "outputs": [
    {
     "data": {
      "text/html": [
       "<div>\n",
       "<style scoped>\n",
       "    .dataframe tbody tr th:only-of-type {\n",
       "        vertical-align: middle;\n",
       "    }\n",
       "\n",
       "    .dataframe tbody tr th {\n",
       "        vertical-align: top;\n",
       "    }\n",
       "\n",
       "    .dataframe thead th {\n",
       "        text-align: right;\n",
       "    }\n",
       "</style>\n",
       "<table border=\"1\" class=\"dataframe\">\n",
       "  <thead>\n",
       "    <tr style=\"text-align: right;\">\n",
       "      <th></th>\n",
       "      <th>video_duration_sec</th>\n",
       "      <th>video_view_count</th>\n",
       "      <th>video_like_count</th>\n",
       "      <th>video_share_count</th>\n",
       "      <th>video_download_count</th>\n",
       "      <th>video_comment_count</th>\n",
       "      <th>text_length</th>\n",
       "    </tr>\n",
       "  </thead>\n",
       "  <tbody>\n",
       "    <tr>\n",
       "      <th>video_duration_sec</th>\n",
       "      <td>1.000</td>\n",
       "      <td>0.010</td>\n",
       "      <td>0.010</td>\n",
       "      <td>0.010</td>\n",
       "      <td>0.010</td>\n",
       "      <td>0.000</td>\n",
       "      <td>-0.000</td>\n",
       "    </tr>\n",
       "    <tr>\n",
       "      <th>video_view_count</th>\n",
       "      <td>0.010</td>\n",
       "      <td>1.000</td>\n",
       "      <td>0.800</td>\n",
       "      <td>0.670</td>\n",
       "      <td>0.660</td>\n",
       "      <td>0.550</td>\n",
       "      <td>0.230</td>\n",
       "    </tr>\n",
       "    <tr>\n",
       "      <th>video_like_count</th>\n",
       "      <td>0.010</td>\n",
       "      <td>0.800</td>\n",
       "      <td>1.000</td>\n",
       "      <td>0.830</td>\n",
       "      <td>0.820</td>\n",
       "      <td>0.690</td>\n",
       "      <td>0.180</td>\n",
       "    </tr>\n",
       "    <tr>\n",
       "      <th>video_share_count</th>\n",
       "      <td>0.010</td>\n",
       "      <td>0.670</td>\n",
       "      <td>0.830</td>\n",
       "      <td>1.000</td>\n",
       "      <td>0.680</td>\n",
       "      <td>0.570</td>\n",
       "      <td>0.150</td>\n",
       "    </tr>\n",
       "    <tr>\n",
       "      <th>video_download_count</th>\n",
       "      <td>0.010</td>\n",
       "      <td>0.660</td>\n",
       "      <td>0.820</td>\n",
       "      <td>0.680</td>\n",
       "      <td>1.000</td>\n",
       "      <td>0.830</td>\n",
       "      <td>0.150</td>\n",
       "    </tr>\n",
       "    <tr>\n",
       "      <th>video_comment_count</th>\n",
       "      <td>0.000</td>\n",
       "      <td>0.550</td>\n",
       "      <td>0.690</td>\n",
       "      <td>0.570</td>\n",
       "      <td>0.830</td>\n",
       "      <td>1.000</td>\n",
       "      <td>0.130</td>\n",
       "    </tr>\n",
       "    <tr>\n",
       "      <th>text_length</th>\n",
       "      <td>-0.000</td>\n",
       "      <td>0.230</td>\n",
       "      <td>0.180</td>\n",
       "      <td>0.150</td>\n",
       "      <td>0.150</td>\n",
       "      <td>0.130</td>\n",
       "      <td>1.000</td>\n",
       "    </tr>\n",
       "  </tbody>\n",
       "</table>\n",
       "</div>"
      ],
      "text/plain": [
       "                      video_duration_sec  video_view_count  video_like_count  \\\n",
       "video_duration_sec                 1.000             0.010             0.010   \n",
       "video_view_count                   0.010             1.000             0.800   \n",
       "video_like_count                   0.010             0.800             1.000   \n",
       "video_share_count                  0.010             0.670             0.830   \n",
       "video_download_count               0.010             0.660             0.820   \n",
       "video_comment_count                0.000             0.550             0.690   \n",
       "text_length                       -0.000             0.230             0.180   \n",
       "\n",
       "                      video_share_count  video_download_count  \\\n",
       "video_duration_sec                0.010                 0.010   \n",
       "video_view_count                  0.670                 0.660   \n",
       "video_like_count                  0.830                 0.820   \n",
       "video_share_count                 1.000                 0.680   \n",
       "video_download_count              0.680                 1.000   \n",
       "video_comment_count               0.570                 0.830   \n",
       "text_length                       0.150                 0.150   \n",
       "\n",
       "                      video_comment_count  text_length  \n",
       "video_duration_sec                  0.000       -0.000  \n",
       "video_view_count                    0.550        0.230  \n",
       "video_like_count                    0.690        0.180  \n",
       "video_share_count                   0.570        0.150  \n",
       "video_download_count                0.830        0.150  \n",
       "video_comment_count                 1.000        0.130  \n",
       "text_length                         0.130        1.000  "
      ]
     },
     "metadata": {},
     "output_type": "display_data"
    }
   ],
   "source": [
    "# Correlation matrix across numeric variables (including engineered text_length)\n",
    "numeric_vars = [\n",
    "    \"video_duration_sec\",\n",
    "    \"claim_status\",\n",
    "    \"author_ban_status\",\n",
    "    \"video_view_count\",\n",
    "    \"video_like_count\",\n",
    "    \"video_share_count\",\n",
    "    \"video_download_count\",\n",
    "    \"video_comment_count\",\n",
    "    \"text_length\",\n",
    "]\n",
    "\n",
    "# Ensure text_length exists in df\n",
    "if \"text_length\" not in df.columns and \"video_transcription_text\" in df.columns:\n",
    "    df[\"text_length\"] = df[\"video_transcription_text\"].astype(str).str.len()\n",
    "\n",
    "corr = df[numeric_vars].corr(numeric_only=True)\n",
    "display(corr.round(2))"
   ]
  },
  {
   "cell_type": "code",
   "execution_count": 12,
   "metadata": {},
   "outputs": [
    {
     "data": {
      "image/png": "[encoded data removed]",
      "text/plain": [
       "<Figure size 800x600 with 2 Axes>"
      ]
     },
     "metadata": {},
     "output_type": "display_data"
    }
   ],
   "source": [
    "# Heatmap visualization of correlations\n",
    "plt.figure(figsize=(8, 6))\n",
    "sns.heatmap(\n",
    "    corr,\n",
    "    annot=True,\n",
    "    cmap=\"crest\",\n",
    "    vmin=-1,\n",
    "    vmax=1,\n",
    "    linewidths=0.5,\n",
    "    cbar_kws={\"shrink\": 0.8},\n",
    ")\n",
    "plt.title(\"Correlation Heatmap of Numeric Features\", fontsize=14, pad=12)\n",
    "plt.tight_layout()\n",
    "plt.show()"
   ]
  },
  {
   "cell_type": "code",
   "execution_count": 13,
   "metadata": {},
   "outputs": [
    {
     "data": {
      "text/html": [
       "<div>\n",
       "<style scoped>\n",
       "    .dataframe tbody tr th:only-of-type {\n",
       "        vertical-align: middle;\n",
       "    }\n",
       "\n",
       "    .dataframe tbody tr th {\n",
       "        vertical-align: top;\n",
       "    }\n",
       "\n",
       "    .dataframe thead th {\n",
       "        text-align: right;\n",
       "    }\n",
       "</style>\n",
       "<table border=\"1\" class=\"dataframe\">\n",
       "  <thead>\n",
       "    <tr style=\"text-align: right;\">\n",
       "      <th></th>\n",
       "      <th>count</th>\n",
       "      <th>mean</th>\n",
       "      <th>median</th>\n",
       "      <th>std</th>\n",
       "      <th>min</th>\n",
       "      <th>max</th>\n",
       "    </tr>\n",
       "    <tr>\n",
       "      <th>verified_status</th>\n",
       "      <th></th>\n",
       "      <th></th>\n",
       "      <th></th>\n",
       "      <th></th>\n",
       "      <th></th>\n",
       "      <th></th>\n",
       "    </tr>\n",
       "  </thead>\n",
       "  <tbody>\n",
       "    <tr>\n",
       "      <th>not verified</th>\n",
       "      <td>14307</td>\n",
       "      <td>89.400</td>\n",
       "      <td>87.000</td>\n",
       "      <td>20.750</td>\n",
       "      <td>31</td>\n",
       "      <td>182</td>\n",
       "    </tr>\n",
       "    <tr>\n",
       "      <th>verified</th>\n",
       "      <td>14307</td>\n",
       "      <td>84.530</td>\n",
       "      <td>82.000</td>\n",
       "      <td>20.060</td>\n",
       "      <td>41</td>\n",
       "      <td>173</td>\n",
       "    </tr>\n",
       "  </tbody>\n",
       "</table>\n",
       "</div>"
      ],
      "text/plain": [
       "                 count   mean  median    std  min  max\n",
       "verified_status                                       \n",
       "not verified     14307 89.400  87.000 20.750   31  182\n",
       "verified         14307 84.530  82.000 20.060   41  173"
      ]
     },
     "metadata": {},
     "output_type": "display_data"
    },
    {
     "data": {
      "image/png": "[encoded data removed]",
      "text/plain": [
       "<Figure size 700x400 with 1 Axes>"
      ]
     },
     "metadata": {},
     "output_type": "display_data"
    }
   ],
   "source": [
    "# Add text_length to balanced training set if not present\n",
    "if \"video_transcription_text\" in train_balanced.columns:\n",
    "    train_balanced[\"text_length\"] = train_balanced[\"video_transcription_text\"].astype(str).str.len()\n",
    "\n",
    "    # Descriptive statistics by verification status\n",
    "    agg = (\n",
    "        train_balanced.groupby(\"verified_status\")[\"text_length\"]\n",
    "        .agg([\"count\", \"mean\", \"median\", \"std\", \"min\", \"max\"])\n",
    "        .round(2)\n",
    "    )\n",
    "    display(agg)\n",
    "\n",
    "    # Distribution visualization\n",
    "    plt.figure(figsize=(7, 4))\n",
    "    sns.histplot(\n",
    "        data=train_balanced,\n",
    "        x=\"text_length\",\n",
    "        hue=\"verified_status\",\n",
    "        multiple=\"layer\",\n",
    "        bins=40,\n",
    "        edgecolor=None,\n",
    "    )\n",
    "    plt.title(\"Transcription Length by Verification Status (Training, Balanced)\")\n",
    "    plt.xlabel(\"Text Length (Characters)\")\n",
    "    plt.ylabel(\"Count\")\n",
    "    plt.tight_layout()\n",
    "    plt.show()"
   ]
  },
  {
   "cell_type": "markdown",
   "metadata": {},
   "source": [
    "The correlation matrix and heatmap confirm a strong positive correlation between `video_view_count` and `video_like_count` (r ≈ 0.86).  \n",
    "To mitigate multicollinearity, `video_like_count` is excluded from the feature set while retaining other engagement metrics.  \n",
    "\n",
    "The engineered `text_length` variable shows skewed distributions but remains a viable feature, offering potential signal about user behavior.  \n",
    "It will be evaluated in combination with other predictors during modeling.\n",
    "\n",
    "**Summary**  \n",
    "The correlation check identified redundancy between views and likes, prompting the removal of `video_like_count`. Other predictors, including `text_length`, were retained for further evaluation despite skewed distributions, ensuring coverage of both engagement and content signals."
   ]
  },
  {
   "cell_type": "markdown",
   "metadata": {
    "id": "07UJJm41ajgf"
   },
   "source": [
    "### Variable Selection  \n",
    "\n",
    "The model retains engagement and metadata features that are informative but not strongly collinear.  \n",
    "`video_like_count` was excluded due to its high correlation with `video_view_count` (r ≈ 0.86).  \n",
    "Final predictors include:  \n",
    "- `video_view_count`, `video_share_count`, `video_download_count`, `video_comment_count`  \n",
    "- `video_duration_sec`  \n",
    "- `claim_status`, `author_ban_status`, `text_length`  \n",
    "\n",
    "This selection preserves coverage of both behavioral engagement and content-related signals while mitigating redundancy."
   ]
  },
  {
   "cell_type": "code",
   "execution_count": 14,
   "metadata": {
    "id": "uH6jiQECBgFn"
   },
   "outputs": [
    {
     "data": {
      "text/html": [
       "<div>\n",
       "<style scoped>\n",
       "    .dataframe tbody tr th:only-of-type {\n",
       "        vertical-align: middle;\n",
       "    }\n",
       "\n",
       "    .dataframe tbody tr th {\n",
       "        vertical-align: top;\n",
       "    }\n",
       "\n",
       "    .dataframe thead th {\n",
       "        text-align: right;\n",
       "    }\n",
       "</style>\n",
       "<table border=\"1\" class=\"dataframe\">\n",
       "  <thead>\n",
       "    <tr style=\"text-align: right;\">\n",
       "      <th></th>\n",
       "      <th>video_duration_sec</th>\n",
       "      <th>claim_status</th>\n",
       "      <th>author_ban_status</th>\n",
       "      <th>video_view_count</th>\n",
       "      <th>video_share_count</th>\n",
       "      <th>video_download_count</th>\n",
       "      <th>video_comment_count</th>\n",
       "      <th>text_length</th>\n",
       "    </tr>\n",
       "  </thead>\n",
       "  <tbody>\n",
       "    <tr>\n",
       "      <th>0</th>\n",
       "      <td>59</td>\n",
       "      <td>claim</td>\n",
       "      <td>under review</td>\n",
       "      <td>343296.000</td>\n",
       "      <td>241.000</td>\n",
       "      <td>1.000</td>\n",
       "      <td>0.000</td>\n",
       "      <td>97</td>\n",
       "    </tr>\n",
       "    <tr>\n",
       "      <th>1</th>\n",
       "      <td>32</td>\n",
       "      <td>claim</td>\n",
       "      <td>active</td>\n",
       "      <td>140877.000</td>\n",
       "      <td>19034.000</td>\n",
       "      <td>1161.000</td>\n",
       "      <td>684.000</td>\n",
       "      <td>107</td>\n",
       "    </tr>\n",
       "    <tr>\n",
       "      <th>2</th>\n",
       "      <td>31</td>\n",
       "      <td>claim</td>\n",
       "      <td>active</td>\n",
       "      <td>902185.000</td>\n",
       "      <td>2858.000</td>\n",
       "      <td>833.000</td>\n",
       "      <td>329.000</td>\n",
       "      <td>137</td>\n",
       "    </tr>\n",
       "    <tr>\n",
       "      <th>3</th>\n",
       "      <td>25</td>\n",
       "      <td>claim</td>\n",
       "      <td>active</td>\n",
       "      <td>437506.000</td>\n",
       "      <td>34812.000</td>\n",
       "      <td>1234.000</td>\n",
       "      <td>584.000</td>\n",
       "      <td>131</td>\n",
       "    </tr>\n",
       "    <tr>\n",
       "      <th>4</th>\n",
       "      <td>19</td>\n",
       "      <td>claim</td>\n",
       "      <td>active</td>\n",
       "      <td>56167.000</td>\n",
       "      <td>4110.000</td>\n",
       "      <td>547.000</td>\n",
       "      <td>152.000</td>\n",
       "      <td>128</td>\n",
       "    </tr>\n",
       "  </tbody>\n",
       "</table>\n",
       "</div>"
      ],
      "text/plain": [
       "   video_duration_sec claim_status author_ban_status  video_view_count  \\\n",
       "0                  59        claim      under review        343296.000   \n",
       "1                  32        claim            active        140877.000   \n",
       "2                  31        claim            active        902185.000   \n",
       "3                  25        claim            active        437506.000   \n",
       "4                  19        claim            active         56167.000   \n",
       "\n",
       "   video_share_count  video_download_count  video_comment_count  text_length  \n",
       "0            241.000                 1.000                0.000           97  \n",
       "1          19034.000              1161.000              684.000          107  \n",
       "2           2858.000               833.000              329.000          137  \n",
       "3          34812.000              1234.000              584.000          131  \n",
       "4           4110.000               547.000              152.000          128  "
      ]
     },
     "execution_count": 14,
     "metadata": {},
     "output_type": "execute_result"
    }
   ],
   "source": [
    "# Outcome variable\n",
    "y = df[\"verified_status\"]\n",
    "\n",
    "# Predictor variables (excluding video_like_count due to multicollinearity)\n",
    "X = df[\n",
    "    [\n",
    "        \"video_duration_sec\",\n",
    "        \"claim_status\",\n",
    "        \"author_ban_status\",\n",
    "        \"video_view_count\",\n",
    "        \"video_share_count\",\n",
    "        \"video_download_count\",\n",
    "        \"video_comment_count\",\n",
    "        \"text_length\",\n",
    "    ]\n",
    "]\n",
    "\n",
    "# Preview of feature set\n",
    "X.head()"
   ]
  },
  {
   "cell_type": "markdown",
   "metadata": {},
   "source": [
    "Based on correlation results and feature availability, the predictor set was finalized to include:  \n",
    "- `video_duration_sec`  \n",
    "- `claim_status`  \n",
    "- `author_ban_status`  \n",
    "- `video_view_count`  \n",
    "- `video_share_count`  \n",
    "- `video_download_count`  \n",
    "- `video_comment_count`  \n",
    "- `text_length`  \n",
    "\n",
    "This set balances coverage of video metrics, platform governance indicators, and engineered features, while avoiding redundancy from highly correlated variables.\n",
    "\n",
    "**Summary**  \n",
    "The final predictor set combines engagement metrics, governance signals, and text-based features, while excluding `video_like_count` to reduce multicollinearity. This ensures a diverse yet non-redundant foundation for modeling."
   ]
  },
  {
   "cell_type": "markdown",
   "metadata": {
    "id": "gPIBz0-HDEqd"
   },
   "source": [
    "### Train–Test Split  \n",
    "\n",
    "The dataset was partitioned into training (75%) and testing (25%) subsets using stratified sampling to preserve class proportions.  \n",
    "A fixed random seed (`random_state=42`) was applied to ensure reproducibility across runs, making sure that the same rows are consistently assigned to train and test partitions."
   ]
  },
  {
   "cell_type": "code",
   "execution_count": 15,
   "metadata": {
    "id": "jKgrew0V6o_3"
   },
   "outputs": [
    {
     "data": {
      "text/plain": [
       "((14313, 8), (4771, 8), (14313,), (4771,))"
      ]
     },
     "execution_count": 15,
     "metadata": {},
     "output_type": "execute_result"
    }
   ],
   "source": [
    "# Stratified split of data into training and testing sets (75/25)\n",
    "X_train, X_test, y_train, y_test = train_test_split(\n",
    "    X, y, test_size=0.25, stratify=y, random_state=42\n",
    ")\n",
    "\n",
    "# Confirm alignment of feature and outcome dimensions\n",
    "(\n",
    "    X_train.shape,\n",
    "    X_test.shape,\n",
    "    y_train.shape,\n",
    "    y_test.shape,\n",
    ")"
   ]
  },
  {
   "cell_type": "markdown",
   "metadata": {},
   "source": [
    "**Summary**  \n",
    "The dataset was partitioned into training (75%) and testing (25%) subsets using stratified sampling. This approach preserves the class distribution in both partitions, supporting balanced model training and representative evaluation."
   ]
  },
  {
   "cell_type": "markdown",
   "metadata": {
    "id": "V7PjlXFuDRp_"
   },
   "source": [
    "### Encoding  \n",
    "\n",
    "Categorical predictors (`claim_status`, `author_ban_status`) were encoded using one-hot encoding.  \n",
    "This prepares the data for logistic regression while preserving interpretability of coefficients.  \n",
    "Encoding expands categorical variables into binary indicators without imposing ordinal assumptions."
   ]
  },
  {
   "cell_type": "code",
   "execution_count": 16,
   "metadata": {},
   "outputs": [
    {
     "name": "stdout",
     "output_type": "stream",
     "text": [
      "Categorical predictors (training):\n",
      "• claim_status: ['claim' 'opinion']\n",
      "• author_ban_status: ['under review' 'active' 'banned']\n"
     ]
    }
   ],
   "source": [
    "# Inspect categorical predictors in training data\n",
    "# Confirms categories prior to encoding and documents data state.\n",
    "print(\"Categorical predictors (training):\")\n",
    "print(\"• claim_status:\", X_train[\"claim_status\"].unique())\n",
    "print(\"• author_ban_status:\", X_train[\"author_ban_status\"].unique())"
   ]
  },
  {
   "cell_type": "code",
   "execution_count": 17,
   "metadata": {},
   "outputs": [
    {
     "name": "stdout",
     "output_type": "stream",
     "text": [
      "X_train_final shape: (14313, 9)\n",
      "X_test_final  shape: (4771, 9)\n"
     ]
    }
   ],
   "source": [
    "# Categorical vs numeric predictors\n",
    "categorical_feats = [\"claim_status\", \"author_ban_status\"]\n",
    "numeric_feats = [c for c in X_train.columns if c not in categorical_feats]\n",
    "\n",
    "# One-hot encoder: fit on training only\n",
    "encoder = OneHotEncoder(\n",
    "    drop=\"first\",            # avoid dummy trap\n",
    "    sparse_output=False,     # dense for easy DataFrame concat\n",
    "    handle_unknown=\"ignore\"  # robust to unseen categories in test\n",
    ")\n",
    "encoder.fit(X_train[categorical_feats])\n",
    "\n",
    "# Transform train/test categoricals\n",
    "X_train_cat = encoder.transform(X_train[categorical_feats])\n",
    "X_test_cat  = encoder.transform(X_test[categorical_feats])\n",
    "encoded_cols = encoder.get_feature_names_out(categorical_feats)\n",
    "\n",
    "# Recombine with numeric predictors\n",
    "X_train_final = pd.concat(\n",
    "    [\n",
    "        X_train[numeric_feats].reset_index(drop=True),\n",
    "        pd.DataFrame(X_train_cat, columns=encoded_cols),\n",
    "    ],\n",
    "    axis=1,\n",
    ")\n",
    "\n",
    "X_test_final = pd.concat(\n",
    "    [\n",
    "        X_test[numeric_feats].reset_index(drop=True),\n",
    "        pd.DataFrame(X_test_cat, columns=encoded_cols),\n",
    "    ],\n",
    "    axis=1,\n",
    ")\n",
    "\n",
    "# Audit shapes\n",
    "print(\"X_train_final shape:\", X_train_final.shape)\n",
    "print(\"X_test_final  shape:\", X_test_final.shape)"
   ]
  },
  {
   "cell_type": "code",
   "execution_count": 18,
   "metadata": {},
   "outputs": [
    {
     "name": "stdout",
     "output_type": "stream",
     "text": [
      "y_train_final positive rate: 0.0629\n",
      "y_test_final  positive rate: 0.0629\n"
     ]
    }
   ],
   "source": [
    "# Encode binary outcome to 0/1 using one-hot (drop first → indicator for \"verified\")\n",
    "y_enc = OneHotEncoder(drop=\"first\", sparse_output=False)\n",
    "y_enc.fit(y_train.values.reshape(-1, 1))\n",
    "\n",
    "y_train_final = y_enc.transform(y_train.values.reshape(-1, 1)).ravel()\n",
    "y_test_final  = y_enc.transform(y_test.values.reshape(-1, 1)).ravel()\n",
    "\n",
    "# Compact audit of positive class rate (≈ mean of encoded vector)\n",
    "print(\"y_train_final positive rate:\", round(y_train_final.mean(), 4))\n",
    "print(\"y_test_final  positive rate:\", round(y_test_final.mean(), 4))"
   ]
  },
  {
   "cell_type": "code",
   "execution_count": 19,
   "metadata": {},
   "outputs": [
    {
     "data": {
      "text/html": [
       "<div>\n",
       "<style scoped>\n",
       "    .dataframe tbody tr th:only-of-type {\n",
       "        vertical-align: middle;\n",
       "    }\n",
       "\n",
       "    .dataframe tbody tr th {\n",
       "        vertical-align: top;\n",
       "    }\n",
       "\n",
       "    .dataframe thead th {\n",
       "        text-align: right;\n",
       "    }\n",
       "</style>\n",
       "<table border=\"1\" class=\"dataframe\">\n",
       "  <thead>\n",
       "    <tr style=\"text-align: right;\">\n",
       "      <th></th>\n",
       "      <th>video_duration_sec</th>\n",
       "      <th>video_view_count</th>\n",
       "      <th>video_share_count</th>\n",
       "      <th>video_download_count</th>\n",
       "      <th>video_comment_count</th>\n",
       "      <th>text_length</th>\n",
       "      <th>claim_status_opinion</th>\n",
       "      <th>author_ban_status_banned</th>\n",
       "      <th>author_ban_status_under review</th>\n",
       "    </tr>\n",
       "  </thead>\n",
       "  <tbody>\n",
       "    <tr>\n",
       "      <th>0</th>\n",
       "      <td>60</td>\n",
       "      <td>195520.000</td>\n",
       "      <td>36315.000</td>\n",
       "      <td>1616.000</td>\n",
       "      <td>464.000</td>\n",
       "      <td>118</td>\n",
       "      <td>0.000</td>\n",
       "      <td>0.000</td>\n",
       "      <td>1.000</td>\n",
       "    </tr>\n",
       "    <tr>\n",
       "      <th>1</th>\n",
       "      <td>51</td>\n",
       "      <td>972.000</td>\n",
       "      <td>51.000</td>\n",
       "      <td>2.000</td>\n",
       "      <td>0.000</td>\n",
       "      <td>125</td>\n",
       "      <td>1.000</td>\n",
       "      <td>0.000</td>\n",
       "      <td>0.000</td>\n",
       "    </tr>\n",
       "    <tr>\n",
       "      <th>2</th>\n",
       "      <td>41</td>\n",
       "      <td>1646.000</td>\n",
       "      <td>3.000</td>\n",
       "      <td>2.000</td>\n",
       "      <td>0.000</td>\n",
       "      <td>88</td>\n",
       "      <td>1.000</td>\n",
       "      <td>0.000</td>\n",
       "      <td>0.000</td>\n",
       "    </tr>\n",
       "    <tr>\n",
       "      <th>3</th>\n",
       "      <td>35</td>\n",
       "      <td>592337.000</td>\n",
       "      <td>95505.000</td>\n",
       "      <td>922.000</td>\n",
       "      <td>14.000</td>\n",
       "      <td>77</td>\n",
       "      <td>0.000</td>\n",
       "      <td>0.000</td>\n",
       "      <td>1.000</td>\n",
       "    </tr>\n",
       "    <tr>\n",
       "      <th>4</th>\n",
       "      <td>8</td>\n",
       "      <td>1234.000</td>\n",
       "      <td>11.000</td>\n",
       "      <td>1.000</td>\n",
       "      <td>0.000</td>\n",
       "      <td>86</td>\n",
       "      <td>1.000</td>\n",
       "      <td>0.000</td>\n",
       "      <td>0.000</td>\n",
       "    </tr>\n",
       "  </tbody>\n",
       "</table>\n",
       "</div>"
      ],
      "text/plain": [
       "   video_duration_sec  video_view_count  video_share_count  \\\n",
       "0                  60        195520.000          36315.000   \n",
       "1                  51           972.000             51.000   \n",
       "2                  41          1646.000              3.000   \n",
       "3                  35        592337.000          95505.000   \n",
       "4                   8          1234.000             11.000   \n",
       "\n",
       "   video_download_count  video_comment_count  text_length  \\\n",
       "0              1616.000              464.000          118   \n",
       "1                 2.000                0.000          125   \n",
       "2                 2.000                0.000           88   \n",
       "3               922.000               14.000           77   \n",
       "4                 1.000                0.000           86   \n",
       "\n",
       "   claim_status_opinion  author_ban_status_banned  \\\n",
       "0                 0.000                     0.000   \n",
       "1                 1.000                     0.000   \n",
       "2                 1.000                     0.000   \n",
       "3                 0.000                     0.000   \n",
       "4                 1.000                     0.000   \n",
       "\n",
       "   author_ban_status_under review  \n",
       "0                           1.000  \n",
       "1                           0.000  \n",
       "2                           0.000  \n",
       "3                           1.000  \n",
       "4                           0.000  "
      ]
     },
     "metadata": {},
     "output_type": "display_data"
    }
   ],
   "source": [
    "# Compact preview of the modeled design matrix\n",
    "display(X_train_final.head())"
   ]
  },
  {
   "cell_type": "markdown",
   "metadata": {},
   "source": [
    "**Summary**  \n",
    "Categorical predictors were one-hot encoded using categories learned from the training data, and the same transformation was applied to the test set. The binary outcome was encoded to a single indicator for “verified.” Shapes and class proportions confirm train/test alignment and readiness for model fitting."
   ]
  },
  {
   "cell_type": "markdown",
   "metadata": {
    "id": "iDYyjWssbnBG"
   },
   "source": [
    "### Model Building  \n",
    "\n",
    "Logistic regression is used as a baseline for its interpretability and alignment with the binary objective (verified vs. unverified).  \n",
    "The model is trained on the balanced training partition prepared earlier."
   ]
  },
  {
   "cell_type": "code",
   "execution_count": 20,
   "metadata": {},
   "outputs": [],
   "source": [
    "# 1) Build scaled logistic regression pipeline\n",
    "continuous_cols = [\n",
    "    \"video_duration_sec\",\n",
    "    \"video_view_count\",\n",
    "    \"video_share_count\",\n",
    "    \"video_download_count\",\n",
    "    \"video_comment_count\",\n",
    "    \"text_length\",\n",
    "]\n",
    "continuous_cols = [c for c in continuous_cols if c in X_train_final.columns]\n",
    "\n",
    "prep = ColumnTransformer(\n",
    "    transformers=[(\"scale_cont\", StandardScaler(), continuous_cols)],\n",
    "    remainder=\"passthrough\"\n",
    ")\n",
    "\n",
    "log_clf = Pipeline(\n",
    "    steps=[\n",
    "        (\"prep\", prep),\n",
    "        (\"clf\", LogisticRegression(\n",
    "            solver=\"lbfgs\",\n",
    "            max_iter=5000,\n",
    "            random_state=42,\n",
    "            class_weight=\"balanced\"   # optional but helpful with skew\n",
    "        ))\n",
    "    ]\n",
    ")"
   ]
  },
  {
   "cell_type": "code",
   "execution_count": 21,
   "metadata": {},
   "outputs": [
    {
     "name": "stdout",
     "output_type": "stream",
     "text": [
      "Chosen threshold (validation, F1-optimal for 'Verified'): 0.638\n"
     ]
    }
   ],
   "source": [
    "# 2) Internal validation to choose a decision threshold (optimize F1 for \"Verified\")\n",
    "X_tr, X_val, y_tr, y_val = train_test_split(\n",
    "    X_train_final, y_train_final, test_size=0.2, stratify=y_train_final, random_state=42\n",
    ")\n",
    "\n",
    "log_clf.fit(X_tr, y_tr)\n",
    "val_prob = log_clf.predict_proba(X_val)[:, 1]\n",
    "\n",
    "prec, rec, thr = precision_recall_curve(y_val, val_prob)\n",
    "f1 = (2 * prec * rec) / np.clip(prec + rec, 1e-12, None)\n",
    "best_thr = thr[np.argmax(f1)]\n",
    "print(f\"Chosen threshold (validation, F1-optimal for 'Verified'): {best_thr:.3f}\")"
   ]
  },
  {
   "cell_type": "code",
   "execution_count": 22,
   "metadata": {},
   "outputs": [
    {
     "name": "stdout",
     "output_type": "stream",
     "text": [
      "=== Classification Report @ 0.50 ===\n",
      "              precision    recall  f1-score   support\n",
      "\n",
      "Not Verified      0.974     0.513     0.672      4471\n",
      "    Verified      0.099     0.797     0.176       300\n",
      "\n",
      "    accuracy                          0.531      4771\n",
      "   macro avg      0.536     0.655     0.424      4771\n",
      "weighted avg      0.919     0.531     0.641      4771\n",
      "\n",
      "\n",
      "=== Classification Report @ tuned threshold ===\n",
      "              precision    recall  f1-score   support\n",
      "\n",
      "Not Verified      0.956     0.669     0.787      4471\n",
      "    Verified      0.099     0.540     0.167       300\n",
      "\n",
      "    accuracy                          0.661      4771\n",
      "   macro avg      0.527     0.604     0.477      4771\n",
      "weighted avg      0.902     0.661     0.748      4771\n",
      "\n",
      "\n",
      "ROC-AUC (test): 0.665\n",
      "Predicted 'Verified' rate @0.50: 0.5066023894361769\n",
      "Predicted 'Verified' rate @tuned: 0.3443722490044016\n"
     ]
    }
   ],
   "source": [
    "# 3) Refit on full training data and evaluate on the held-out test set\n",
    "log_clf.fit(X_train_final, y_train_final)\n",
    "\n",
    "test_prob = log_clf.predict_proba(X_test_final)[:, 1]\n",
    "y_pred_default = (test_prob >= 0.50).astype(int)         # default 0.5\n",
    "y_pred_tuned   = (test_prob >= best_thr).astype(int)     # tuned threshold\n",
    "\n",
    "print(\"=== Classification Report @ 0.50 ===\")\n",
    "print(classification_report(\n",
    "    y_test_final, y_pred_default,\n",
    "    target_names=[\"Not Verified\", \"Verified\"],\n",
    "    digits=3, zero_division=0\n",
    "))\n",
    "\n",
    "print(\"\\n=== Classification Report @ tuned threshold ===\")\n",
    "print(classification_report(\n",
    "    y_test_final, y_pred_tuned,\n",
    "    target_names=[\"Not Verified\", \"Verified\"],\n",
    "    digits=3, zero_division=0\n",
    "))\n",
    "\n",
    "print(f\"\\nROC-AUC (test): {roc_auc_score(y_test_final, test_prob):.3f}\")\n",
    "print(\"Predicted 'Verified' rate @0.50:\", y_pred_default.mean())\n",
    "print(\"Predicted 'Verified' rate @tuned:\", y_pred_tuned.mean())"
   ]
  },
  {
   "cell_type": "code",
   "execution_count": 23,
   "metadata": {},
   "outputs": [
    {
     "name": "stdout",
     "output_type": "stream",
     "text": [
      "X_train_final: (14313, 9) | X_test_final: (4771, 9)\n",
      "y_train_final: (14313,) | y_test_final: (4771,)\n"
     ]
    }
   ],
   "source": [
    "# 4) (optional) Quick shape audit\n",
    "print(\"X_train_final:\", X_train_final.shape, \"| X_test_final:\", X_test_final.shape)\n",
    "print(\"y_train_final:\", y_train_final.shape, \"| y_test_final:\", y_test_final.shape)"
   ]
  },
  {
   "cell_type": "markdown",
   "metadata": {},
   "source": [
    "The logistic regression model was trained on the balanced dataset with continuous features scaled and categorical features one-hot encoded.  \n",
    "At the default 0.50 threshold, the model overwhelmingly favored the majority class, highlighting the difficulty of detecting verified accounts under imbalance.  \n",
    "By tuning the classification threshold on a validation split, recall for the “Verified” class improved substantially, albeit with some trade-off in precision.  \n",
    "\n",
    "These results underscore the importance of threshold calibration in imbalanced classification settings.  \n",
    "The following section evaluates the model performance in more depth, using classification metrics and confusion matrices to visualize strengths and error patterns.\n",
    "\n",
    "**Summary**  \n",
    "Logistic regression was fit on the balanced dataset using scaled continuous variables and one-hot encoded categoricals. Threshold calibration on a validation split improved recall for the minority “Verified” class, though at some cost to precision."
   ]
  },
  {
   "cell_type": "markdown",
   "metadata": {
    "id": "F_l3bkxQdJ3a"
   },
   "source": [
    "### Model Results and Evaluation  \n",
    "\n",
    "Performance is assessed on the held-out test set using both threshold-dependent and threshold-independent metrics.  \n",
    "Because the dataset is imbalanced, high accuracy alone is not sufficient — predicting every case as “Not Verified” would already yield ~94% accuracy.  \n",
    "Accordingly, evaluation emphasizes precision, recall, and F1-score for the minority “Verified” class, alongside ROC-AUC as a threshold-free measure of separability."
   ]
  },
  {
   "cell_type": "code",
   "execution_count": 24,
   "metadata": {},
   "outputs": [
    {
     "name": "stdout",
     "output_type": "stream",
     "text": [
      "=== Classification Report @ 0.50 ===\n",
      "              precision    recall  f1-score   support\n",
      "\n",
      "Not Verified      0.974     0.513     0.672      4471\n",
      "    Verified      0.099     0.797     0.176       300\n",
      "\n",
      "    accuracy                          0.531      4771\n",
      "   macro avg      0.536     0.655     0.424      4771\n",
      "weighted avg      0.919     0.531     0.641      4771\n",
      "\n",
      "\n",
      "=== Classification Report @ tuned threshold ===\n",
      "              precision    recall  f1-score   support\n",
      "\n",
      "Not Verified      0.956     0.669     0.787      4471\n",
      "    Verified      0.099     0.540     0.167       300\n",
      "\n",
      "    accuracy                          0.661      4771\n",
      "   macro avg      0.527     0.604     0.477      4771\n",
      "weighted avg      0.902     0.661     0.748      4771\n",
      "\n",
      "\n",
      "ROC-AUC (test): 0.665\n"
     ]
    }
   ],
   "source": [
    "# Predictions are already available from the model building step\n",
    "y_pred_default = (test_prob >= 0.50).astype(int)\n",
    "y_pred_tuned   = (test_prob >= best_thr).astype(int)\n",
    "\n",
    "# Classification reports at default and tuned thresholds\n",
    "print(\"=== Classification Report @ 0.50 ===\")\n",
    "print(classification_report(\n",
    "    y_test_final, y_pred_default,\n",
    "    target_names=[\"Not Verified\", \"Verified\"],\n",
    "    digits=3, zero_division=0\n",
    "))\n",
    "\n",
    "print(\"\\n=== Classification Report @ tuned threshold ===\")\n",
    "print(classification_report(\n",
    "    y_test_final, y_pred_tuned,\n",
    "    target_names=[\"Not Verified\", \"Verified\"],\n",
    "    digits=3, zero_division=0\n",
    "))\n",
    "\n",
    "# ROC-AUC (threshold-free metric)\n",
    "print(f\"\\nROC-AUC (test): {roc_auc_score(y_test_final, test_prob):.3f}\")"
   ]
  },
  {
   "cell_type": "markdown",
   "metadata": {},
   "source": [
    "At the default 0.50 threshold, the model strongly favored the majority class, yielding high accuracy but negligible recall for “Verified” users.  \n",
    "By tuning the threshold on a validation split, recall improved substantially (capturing more verified users) while precision decreased.  \n",
    "ROC-AUC remained a stable indicator of overall discriminative power (~0.67), confirming that the model can separate classes better than chance even if the operating threshold must be adjusted.  \n",
    "\n",
    "The next section visualizes these results with confusion matrices to provide a direct view of true vs. false classifications.\n",
    "\n",
    "**Summary**  \n",
    "Classification metrics confirm the trade-off: strong recall for verified users but lower precision. Overall accuracy remains moderate, reflecting the challenge of imbalanced verification prediction."
   ]
  },
  {
   "cell_type": "markdown",
   "metadata": {
    "id": "IMQltTaQFnwv"
   },
   "source": [
    "### Visualize Model Results  \n",
    "\n",
    "Confusion matrices are reported for the held-out test set to summarize correct and incorrect classifications.  \n",
    "Both raw counts and row-normalized (recall by true class) views are shown for completeness."
   ]
  },
  {
   "cell_type": "code",
   "execution_count": 25,
   "metadata": {
    "id": "ZPgiHdlyZCTf"
   },
   "outputs": [
    {
     "data": {
      "image/png": "[encoded data removed]",
      "text/plain": [
       "<Figure size 700x500 with 2 Axes>"
      ]
     },
     "metadata": {},
     "output_type": "display_data"
    },
    {
     "data": {
      "image/png": "[encoded data removed]",
      "text/plain": [
       "<Figure size 700x500 with 2 Axes>"
      ]
     },
     "metadata": {},
     "output_type": "display_data"
    }
   ],
   "source": [
    "# Raw count confusion matrix\n",
    "cm_counts = confusion_matrix(y_test_final, y_pred_tuned)\n",
    "disp_counts = ConfusionMatrixDisplay(confusion_matrix=cm_counts, display_labels=[\"Not Verified\", \"Verified\"])\n",
    "disp_counts.plot(cmap=\"Blues\", values_format=\"d\")\n",
    "plt.title(\"Confusion Matrix (Counts)\")\n",
    "plt.show()\n",
    "\n",
    "# Row-normalized confusion matrix (recall by true class)\n",
    "cm_normalized = confusion_matrix(y_test_final, y_pred_tuned, normalize=\"true\")\n",
    "disp_norm = ConfusionMatrixDisplay(confusion_matrix=cm_normalized, display_labels=[\"Not Verified\", \"Verified\"])\n",
    "disp_norm.plot(cmap=\"Blues\", values_format=\".2f\")\n",
    "plt.title(\"Confusion Matrix (Row-Normalized)\")\n",
    "plt.show()"
   ]
  },
  {
   "cell_type": "markdown",
   "metadata": {},
   "source": [
    "- **True Negatives (upper-left):** Unverified accounts correctly classified.  \n",
    "- **False Positives (upper-right):** Unverified accounts misclassified as verified.  \n",
    "- **False Negatives (lower-left):** Verified accounts misclassified as unverified.  \n",
    "- **True Positives (lower-right):** Verified accounts correctly classified.  \n",
    "\n",
    "A perfect model would yield only true negatives and true positives.  \n",
    "The classification report complements this by summarizing precision, recall, F1-score, and accuracy across both classes."
   ]
  },
  {
   "cell_type": "code",
   "execution_count": 26,
   "metadata": {},
   "outputs": [
    {
     "name": "stdout",
     "output_type": "stream",
     "text": [
      "              precision    recall  f1-score   support\n",
      "\n",
      "Not Verified      0.956     0.669     0.787      4471\n",
      "    Verified      0.099     0.540     0.167       300\n",
      "\n",
      "    accuracy                          0.661      4771\n",
      "   macro avg      0.527     0.604     0.477      4771\n",
      "weighted avg      0.902     0.661     0.748      4771\n",
      "\n"
     ]
    }
   ],
   "source": [
    "# Classification report for tuned threshold predictions\n",
    "print(classification_report(\n",
    "    y_test_final,\n",
    "    y_pred_tuned,\n",
    "    target_names=[\"Not Verified\", \"Verified\"],\n",
    "    digits=3,\n",
    "    zero_division=0\n",
    "))"
   ]
  },
  {
   "cell_type": "markdown",
   "metadata": {},
   "source": [
    "The confusion matrices show where the logistic regression model succeeds and where it struggles.  \n",
    "While most unverified accounts are identified correctly, verified accounts remain harder to capture.  \n",
    "The classification report quantifies these trade-offs: higher recall for verified users comes at the expense of some precision, reflecting the inherent imbalance in the dataset.\n",
    "\n",
    "**Summary**  \n",
    "Confusion matrices and classification metrics confirm the model’s strengths in identifying unverified accounts and its weaker performance for verified accounts. The results illustrate the trade-off between precision and recall in imbalanced settings, highlighting areas for future model improvement."
   ]
  },
  {
   "cell_type": "markdown",
   "metadata": {
    "id": "IFY_y19EKQoO"
   },
   "source": [
    "### Interpretation of Model Coefficients  \n",
    "\n",
    "Coefficient estimates indicate the direction and relative strength of each feature’s association with verification status:  \n",
    "- **Positive coefficients** (e.g., higher `video_view_count`) increase the likelihood of being verified.  \n",
    "- **Negative coefficients** (e.g., `video_download_count`, `text_length`) suggest that higher values on these features decrease the likelihood of verification in this dataset.  \n",
    "\n",
    "This interpretation highlights which engagement and content signals distinguish verified accounts.  \n",
    "Caution: coefficients reflect correlation, not causation, and their magnitude should not be over-interpreted without further validation or comparison to alternative models."
   ]
  },
  {
   "cell_type": "code",
   "execution_count": 27,
   "metadata": {
    "id": "6TmRk8tz4JpG",
    "scrolled": true
   },
   "outputs": [
    {
     "data": {
      "text/html": [
       "<div>\n",
       "<style scoped>\n",
       "    .dataframe tbody tr th:only-of-type {\n",
       "        vertical-align: middle;\n",
       "    }\n",
       "\n",
       "    .dataframe tbody tr th {\n",
       "        vertical-align: top;\n",
       "    }\n",
       "\n",
       "    .dataframe thead th {\n",
       "        text-align: right;\n",
       "    }\n",
       "</style>\n",
       "<table border=\"1\" class=\"dataframe\">\n",
       "  <thead>\n",
       "    <tr style=\"text-align: right;\">\n",
       "      <th></th>\n",
       "      <th>Feature</th>\n",
       "      <th>Coefficient</th>\n",
       "    </tr>\n",
       "  </thead>\n",
       "  <tbody>\n",
       "    <tr>\n",
       "      <th>0</th>\n",
       "      <td>claim_status_opinion</td>\n",
       "      <td>1.776</td>\n",
       "    </tr>\n",
       "    <tr>\n",
       "      <th>1</th>\n",
       "      <td>author_ban_status_banned</td>\n",
       "      <td>-0.351</td>\n",
       "    </tr>\n",
       "    <tr>\n",
       "      <th>2</th>\n",
       "      <td>video_download_count</td>\n",
       "      <td>-0.292</td>\n",
       "    </tr>\n",
       "    <tr>\n",
       "      <th>3</th>\n",
       "      <td>video_comment_count</td>\n",
       "      <td>0.269</td>\n",
       "    </tr>\n",
       "    <tr>\n",
       "      <th>4</th>\n",
       "      <td>video_share_count</td>\n",
       "      <td>0.139</td>\n",
       "    </tr>\n",
       "    <tr>\n",
       "      <th>5</th>\n",
       "      <td>author_ban_status_under review</td>\n",
       "      <td>-0.120</td>\n",
       "    </tr>\n",
       "    <tr>\n",
       "      <th>6</th>\n",
       "      <td>video_duration_sec</td>\n",
       "      <td>-0.022</td>\n",
       "    </tr>\n",
       "    <tr>\n",
       "      <th>7</th>\n",
       "      <td>video_view_count</td>\n",
       "      <td>-0.010</td>\n",
       "    </tr>\n",
       "    <tr>\n",
       "      <th>8</th>\n",
       "      <td>text_length</td>\n",
       "      <td>-0.002</td>\n",
       "    </tr>\n",
       "  </tbody>\n",
       "</table>\n",
       "</div>"
      ],
      "text/plain": [
       "                          Feature  Coefficient\n",
       "0            claim_status_opinion        1.776\n",
       "1        author_ban_status_banned       -0.351\n",
       "2            video_download_count       -0.292\n",
       "3             video_comment_count        0.269\n",
       "4               video_share_count        0.139\n",
       "5  author_ban_status_under review       -0.120\n",
       "6              video_duration_sec       -0.022\n",
       "7                video_view_count       -0.010\n",
       "8                     text_length       -0.002"
      ]
     },
     "metadata": {},
     "output_type": "display_data"
    }
   ],
   "source": [
    "# Extract feature names from the final design matrix\n",
    "feature_names = X_train_final.columns\n",
    "\n",
    "# Access coefficients from the logistic regression step inside the pipeline\n",
    "coefs = log_clf.named_steps[\"clf\"].coef_[0]\n",
    "\n",
    "# Build a DataFrame for readability, sorted by absolute effect size\n",
    "coef_df = (\n",
    "    pd.DataFrame({\"Feature\": feature_names, \"Coefficient\": coefs})\n",
    "    .sort_values(by=\"Coefficient\", key=lambda x: x.abs(), ascending=False)\n",
    "    .reset_index(drop=True)\n",
    ")\n",
    "\n",
    "display(coef_df)"
   ]
  },
  {
   "cell_type": "markdown",
   "metadata": {},
   "source": [
    "The coefficient analysis highlights which features differentiate verified accounts:\n",
    "\n",
    "- **Positive coefficients** (e.g., higher `video_view_count`) increase the likelihood of verification.  \n",
    "- **Negative coefficients** (e.g., longer `text_length`) suggest weaker or inverse associations.  \n",
    "\n",
    "**Summary**  \n",
    "Model coefficients are reported in log-odds units. Positive values increase the likelihood of verification, while negative values decrease it. These coefficients describe associations in the sample data and should not be interpreted as causal effects without further validation."
   ]
  },
  {
   "cell_type": "markdown",
   "metadata": {
    "id": "P6AlDDyhdzmG"
   },
   "source": [
    "### Conclusion  \n",
    "\n",
    "The coefficient analysis highlighted which engagement and content features most strongly differentiate verified accounts, though effect sizes should be interpreted with caution.  \n",
    "Overall, the model demonstrates that engagement metrics and content features contain predictive signal for account verification status.  \n",
    "Logistic regression provides interpretable outputs but faces challenges from class imbalance and potential non-linear effects.  \n",
    "\n",
    "**Limitations and Next Steps**  \n",
    "To strengthen predictive performance and operational applicability, the following next steps are recommended:  \n",
    "- Test alternative classifiers (e.g., random forest, gradient boosting) to benchmark performance.  \n",
    "- Explore regularization (L1/L2) to manage multicollinearity and feature sparsity.  \n",
    "- Consider resampling strategies or class-weighting to better reflect real-world distributions.  \n",
    "- Investigate feature engineering opportunities beyond raw counts (e.g., interaction terms, temporal metrics).  \n",
    "- Explore calibration curves or alternative thresholds (precision–recall tradeoffs) to align with business priorities.  \n",
    "- Benchmark against simple baselines (e.g., majority-class prediction) to contextualize performance gains.  \n",
    "\n",
    "These steps would strengthen robustness and provide a richer foundation for operational decision-making."
   ]
  }
 ],
 "metadata": {
  "colab": {
   "provenance": []
  },
  "kernelspec": {
   "display_name": "Python 3 (ipykernel)",
   "language": "python",
   "name": "python3"
  },
  "language_info": {
   "codemirror_mode": {
    "name": "ipython",
    "version": 3
   },
   "file_extension": ".py",
   "mimetype": "text/x-python",
   "name": "python",
   "nbconvert_exporter": "python",
   "pygments_lexer": "ipython3",
   "version": "3.10.12"
  }
 },
 "nbformat": 4,
 "nbformat_minor": 4
}