{
 "cells": [
  {
   "cell_type": "markdown",
   "id": "7f841a65",
   "metadata": {},
   "source": [
    "# Employee Attrition Analysis — 01: Data Dictionary Setup\n",
    "\n",
    "***Initial data import, schema inspection, and professional data dictionary creation***\n",
    "\n",
    "**Author:** Katherine Ygbuhay  \n",
    "**Updated:** 2025-01-04  \n",
    "**Stage:** 01 — Data Setup  \n",
    "**Runtime:** ~10 minutes  \n",
    "\n",
    "## Objective\n",
    "\n",
    "Load the raw employee dataset, inspect its structure, and produce a professional data dictionary that documents variables, types, and definitions for stakeholder reference.\n",
    "\n",
    "## Scope & Approach\n",
    "\n",
    "- **Raw data inspection** of `salifort_employee_attrition_raw.csv` without modifications\n",
    "- **Schema analysis** including data types, missing values, and target distribution  \n",
    "- **Data dictionary creation** with comprehensive variable documentation\n",
    "- **Quality assessment** noting data integrity and modeling considerations\n",
    "\n",
    "## Key Outputs\n",
    "\n",
    "- Professional data dictionary exported to `docs/reference/data_dictionary.md`\n",
    "- Schema summary with data quality assessment\n",
    "- Target variable distribution analysis\n",
    "- Baseline understanding for subsequent modeling stages\n",
    "\n",
    "## Prerequisites\n",
    "\n",
    "- Access to raw employee attrition dataset\n",
    "- Understanding of HR attrition analysis business context\n",
    "\n",
    "---"
   ]
  },
  {
   "cell_type": "markdown",
   "id": "a0f0fd6b-ac01-40bb-999b-b846e94c3f88",
   "metadata": {},
   "source": [
    "## 1. Imports & Setup"
   ]
  },
  {
   "cell_type": "code",
   "execution_count": 1,
   "id": "fae5dbc3",
   "metadata": {},
   "outputs": [
    {
     "name": "stdout",
     "output_type": "stream",
     "text": [
      "🎨 Accessibility defaults applied (colorblind palette, high-contrast, safe colormap).\n",
      "✅ Accessibility defaults applied\n",
      "📁 Project root → /home/admin/Documents/portfolio/coursework/google-advanced-data-analytics/employee_attrition_analysis\n",
      "✅ Loaded RAW:  data/raw/salifort_employee_attrition_raw.csv | shape=(14999, 10)\n"
     ]
    }
   ],
   "source": [
    "import os\n",
    "os.environ[\"PORTFOLIO_PROJECT\"] = \"employee_attrition_analysis\"\n",
    "\n",
    "import pandas as pd\n",
    "import numpy as np\n",
    "import matplotlib.pyplot as plt\n",
    "import seaborn as sns\n",
    "from src.bootstrap import setup_notebook\n",
    "\n",
    "RAW_NAME  = \"salifort_employee_attrition_raw.csv\"\n",
    "PROC_NAME = \"salifort_employee_attrition_cleaned.csv\"\n",
    "\n",
    "# For data dictionary we want the RAW dataset\n",
    "P, df = setup_notebook(raw_filename=RAW_NAME, proc_filename=PROC_NAME, load=\"raw\")"
   ]
  },
  {
   "cell_type": "markdown",
   "id": "a3a45417-b016-4014-9b85-8ee73244a03f",
   "metadata": {},
   "source": [
    "## 2. Initial Inspection"
   ]
  },
  {
   "cell_type": "code",
   "execution_count": 2,
   "id": "33dd3e43",
   "metadata": {},
   "outputs": [
    {
     "name": "stdout",
     "output_type": "stream",
     "text": [
      "✅ data/raw/salifort_employee_attrition_raw.csv | shape=(14999, 10)\n",
      "<class 'pandas.core.frame.DataFrame'>\n",
      "RangeIndex: 14999 entries, 0 to 14998\n",
      "Data columns (total 10 columns):\n",
      " #   Column                 Non-Null Count  Dtype  \n",
      "---  ------                 --------------  -----  \n",
      " 0   satisfaction_level     14999 non-null  float64\n",
      " 1   last_evaluation        14999 non-null  float64\n",
      " 2   number_project         14999 non-null  int64  \n",
      " 3   average_montly_hours   14999 non-null  int64  \n",
      " 4   time_spend_company     14999 non-null  int64  \n",
      " 5   Work_accident          14999 non-null  int64  \n",
      " 6   left                   14999 non-null  int64  \n",
      " 7   promotion_last_5years  14999 non-null  int64  \n",
      " 8   Department             14999 non-null  object \n",
      " 9   salary                 14999 non-null  object \n",
      "dtypes: float64(2), int64(6), object(2)\n",
      "memory usage: 1.1+ MB\n"
     ]
    },
    {
     "data": {
      "text/html": [
       "<div>\n",
       "<style scoped>\n",
       "    .dataframe tbody tr th:only-of-type {\n",
       "        vertical-align: middle;\n",
       "    }\n",
       "\n",
       "    .dataframe tbody tr th {\n",
       "        vertical-align: top;\n",
       "    }\n",
       "\n",
       "    .dataframe thead th {\n",
       "        text-align: right;\n",
       "    }\n",
       "</style>\n",
       "<table border=\"1\" class=\"dataframe\">\n",
       "  <thead>\n",
       "    <tr style=\"text-align: right;\">\n",
       "      <th></th>\n",
       "      <th>dtype</th>\n",
       "      <th>n_unique</th>\n",
       "      <th>n_missing</th>\n",
       "      <th>missing_pct</th>\n",
       "    </tr>\n",
       "  </thead>\n",
       "  <tbody>\n",
       "    <tr>\n",
       "      <th>Department</th>\n",
       "      <td>object</td>\n",
       "      <td>10</td>\n",
       "      <td>0</td>\n",
       "      <td>0.0</td>\n",
       "    </tr>\n",
       "    <tr>\n",
       "      <th>Work_accident</th>\n",
       "      <td>int64</td>\n",
       "      <td>2</td>\n",
       "      <td>0</td>\n",
       "      <td>0.0</td>\n",
       "    </tr>\n",
       "    <tr>\n",
       "      <th>average_montly_hours</th>\n",
       "      <td>int64</td>\n",
       "      <td>215</td>\n",
       "      <td>0</td>\n",
       "      <td>0.0</td>\n",
       "    </tr>\n",
       "    <tr>\n",
       "      <th>last_evaluation</th>\n",
       "      <td>float64</td>\n",
       "      <td>65</td>\n",
       "      <td>0</td>\n",
       "      <td>0.0</td>\n",
       "    </tr>\n",
       "    <tr>\n",
       "      <th>left</th>\n",
       "      <td>int64</td>\n",
       "      <td>2</td>\n",
       "      <td>0</td>\n",
       "      <td>0.0</td>\n",
       "    </tr>\n",
       "    <tr>\n",
       "      <th>number_project</th>\n",
       "      <td>int64</td>\n",
       "      <td>6</td>\n",
       "      <td>0</td>\n",
       "      <td>0.0</td>\n",
       "    </tr>\n",
       "    <tr>\n",
       "      <th>promotion_last_5years</th>\n",
       "      <td>int64</td>\n",
       "      <td>2</td>\n",
       "      <td>0</td>\n",
       "      <td>0.0</td>\n",
       "    </tr>\n",
       "    <tr>\n",
       "      <th>salary</th>\n",
       "      <td>object</td>\n",
       "      <td>3</td>\n",
       "      <td>0</td>\n",
       "      <td>0.0</td>\n",
       "    </tr>\n",
       "    <tr>\n",
       "      <th>satisfaction_level</th>\n",
       "      <td>float64</td>\n",
       "      <td>92</td>\n",
       "      <td>0</td>\n",
       "      <td>0.0</td>\n",
       "    </tr>\n",
       "    <tr>\n",
       "      <th>time_spend_company</th>\n",
       "      <td>int64</td>\n",
       "      <td>8</td>\n",
       "      <td>0</td>\n",
       "      <td>0.0</td>\n",
       "    </tr>\n",
       "  </tbody>\n",
       "</table>\n",
       "</div>"
      ],
      "text/plain": [
       "                         dtype  n_unique  n_missing  missing_pct\n",
       "Department              object        10          0          0.0\n",
       "Work_accident            int64         2          0          0.0\n",
       "average_montly_hours     int64       215          0          0.0\n",
       "last_evaluation        float64        65          0          0.0\n",
       "left                     int64         2          0          0.0\n",
       "number_project           int64         6          0          0.0\n",
       "promotion_last_5years    int64         2          0          0.0\n",
       "salary                  object         3          0          0.0\n",
       "satisfaction_level     float64        92          0          0.0\n",
       "time_spend_company       int64         8          0          0.0"
      ]
     },
     "metadata": {},
     "output_type": "display_data"
    }
   ],
   "source": [
    "## 2. Schema Overview\n",
    "\n",
    "# Confirm dataset shape and types\n",
    "print(f\"✅ {P.RAW.relative_to(P.ROOT)} | shape={df.shape}\")\n",
    "df.info()\n",
    "\n",
    "# Preview first rows\n",
    "df.head()\n",
    "\n",
    "# Column-level summary\n",
    "col_summary = pd.DataFrame({\n",
    "    \"dtype\": df.dtypes.astype(str),\n",
    "    \"n_unique\": df.nunique(),\n",
    "    \"n_missing\": df.isna().sum(),\n",
    "    \"missing_pct\": (df.isna().mean() * 100).round(2)\n",
    "}).sort_index()\n",
    "\n",
    "display(col_summary)"
   ]
  },
  {
   "cell_type": "markdown",
   "id": "de828c55-14e4-4f0b-82f6-5aa3df4bfe40",
   "metadata": {},
   "source": [
    "## 4. Target Variable Distribution"
   ]
  },
  {
   "cell_type": "code",
   "execution_count": 3,
   "id": "c0081707-bd87-49ce-811f-de9e5c1741c5",
   "metadata": {},
   "outputs": [
    {
     "name": "stdout",
     "output_type": "stream",
     "text": [
      "left\n",
      "0    0.761917\n",
      "1    0.238083\n",
      "Name: proportion, dtype: float64\n"
     ]
    },
    {
     "data": {
      "image/png": "[encoded data removed]",
      "text/plain": [
       "<Figure size 640x480 with 1 Axes>"
      ]
     },
     "metadata": {},
     "output_type": "display_data"
    }
   ],
   "source": [
    "target_col = \"left\"\n",
    "print(df[target_col].value_counts(normalize=True).rename(\"proportion\"))\n",
    "sns.countplot(x=target_col, data=df)\n",
    "plt.title(\"Attrition (0 = Stayed, 1 = Left)\")\n",
    "plt.show()"
   ]
  },
  {
   "cell_type": "code",
   "execution_count": 4,
   "id": "ba7a9bc0-db16-44b0-aed1-17b02491faa8",
   "metadata": {},
   "outputs": [
    {
     "name": "stdout",
     "output_type": "stream",
     "text": [
      "✅ Data dictionary exported to: /home/admin/Documents/portfolio/coursework/google-advanced-data-analytics/employee_attrition_analysis/docs/reference/data_dictionary.md\n",
      "Exists? True\n"
     ]
    }
   ],
   "source": [
    "# %% Export Data Dictionary to Markdown\n",
    "data_dictionary_md = \"\"\"\n",
    "# Data Dictionary – Employee Attrition Dataset\n",
    "\n",
    "| Column                | Type      | Description                                                                 |\n",
    "|------------------------|-----------|-----------------------------------------------------------------------------|\n",
    "| satisfaction_level     | float     | Employee’s self-reported satisfaction (0–1 scale).                         |\n",
    "| last_evaluation        | float     | Performance evaluation score by management (0–1 scale).                    |\n",
    "| number_project         | int       | Number of projects the employee has worked on.                             |\n",
    "| average_montly_hours   | int       | Average number of hours worked per month (*note the misspelling retained*).|\n",
    "| time_spend_company     | int       | Number of years the employee has been with the company.                     |\n",
    "| Work_accident          | int (0/1) | Whether the employee had a workplace accident (1 = yes).                   |\n",
    "| left                   | int (0/1) | Target variable: whether the employee left the company (1 = yes).          |\n",
    "| promotion_last_5years  | int (0/1) | Whether the employee was promoted in the last 5 years.                     |\n",
    "| Department             | category  | Department name (e.g., sales, support, technical).                         |\n",
    "| salary                 | category  | Salary category: low, medium, or high.                                     |\n",
    "\n",
    "---\n",
    "\n",
    "### Data Quality Notes\n",
    "- No missing values detected across columns.\n",
    "- `average_montly_hours` has a spelling error but will be kept as-is for reproducibility.\n",
    "- `salary` and `Department` are categorical variables requiring encoding for modeling.\n",
    "- Target (`left`) is imbalanced: ~24% of employees left vs. ~76% retained.\n",
    "\"\"\"\n",
    "# %% Export Data Dictionary to the current case study's docs/reference\n",
    "\n",
    "from pathlib import Path\n",
    "\n",
    "# Find the case-study root by walking up until we see a \"docs\" or \"notebooks\" folder\n",
    "case_root = Path.cwd()\n",
    "while case_root != case_root.parent:\n",
    "    if (case_root / \"docs\").exists() or (case_root / \"notebooks\").exists():\n",
    "        break\n",
    "    case_root = case_root.parent\n",
    "else:\n",
    "    raise FileNotFoundError(\"Could not locate case-study root with 'docs' or 'notebooks'.\")\n",
    "\n",
    "output_path = case_root / \"docs\" / \"reference\" / \"data_dictionary.md\"\n",
    "output_path.parent.mkdir(parents=True, exist_ok=True)\n",
    "\n",
    "with open(output_path, \"w\") as f:\n",
    "    f.write(data_dictionary_md)\n",
    "\n",
    "print(f\"✅ Data dictionary exported to: {output_path}\")\n",
    "print(\"Exists?\", output_path.exists())"
   ]
  },
  {
   "cell_type": "markdown",
   "id": "8aa7403f-8488-4b35-8052-b5f8c7cf8b01",
   "metadata": {},
   "source": [
    "### Data Quality Notes\n",
    "- No missing values detected across columns.\n",
    "- `average_montly_hours` has a spelling error but will be kept as-is for reproducibility.\n",
    "- `salary` and `Department` are categorical variables requiring encoding for modeling.\n",
    "- Target (`left`) is imbalanced: ~24% of employees left vs. ~76% retained."
   ]
  },
  {
   "cell_type": "markdown",
   "id": "ce7f1b44-fe30-43e9-8e45-72c2d05a9f5d",
   "metadata": {},
   "source": [
    "---\n",
    "\n",
    "## Summary & Next Steps\n",
    "\n",
    "In this setup stage, we:\n",
    "\n",
    "- Imported the raw employee attrition dataset.  \n",
    "- Verified dataset shape, datatypes, and target distribution.  \n",
    "- Documented all variables in a professional data dictionary.  \n",
    "- Recorded key data quality notes (e.g., no missing values, categorical variables requiring encoding, slight class imbalance).  \n",
    "- Exported the finalized data dictionary to `docs/reference/data_dictionary.md` for stakeholder reference.\n",
    "\n",
    "**Next Steps:**  \n",
    "Proceed with exploratory data analysis (EDA) to investigate patterns, anomalies, and feature distributions, and prepare the dataset for model construction."
   ]
  }
 ],
 "metadata": {
  "kernelspec": {
   "display_name": "Python 3 (ipykernel)",
   "language": "python",
   "name": "python3"
  },
  "language_info": {
   "codemirror_mode": {
    "name": "ipython",
    "version": 3
   },
   "file_extension": ".py",
   "mimetype": "text/x-python",
   "name": "python",
   "nbconvert_exporter": "python",
   "pygments_lexer": "ipython3",
   "version": "3.10.12"
  }
 },
 "nbformat": 4,
 "nbformat_minor": 5
}
