{
 "cells": [
  {
   "cell_type": "markdown",
   "id": "7f841a65",
   "metadata": {},
   "source": [
    "# Employee Attrition Analysis - Data Dictionary Setup\n",
    "\n",
    "***Initial data import, schema inspection, and dictionary creation***\n",
    "\n",
    "**Owner:** Katherine Ygbuhay  \n",
    "**Updated:** October 2025  \n",
    "**Stage:** Setup (01)\n",
    "\n",
    "**Goal**  \n",
    "Load the raw dataset, inspect its structure, and produce a professional data dictionary that documents variables, types, and definitions.  \n",
    "\n",
    "**Scope**  \n",
    "- Work only with the raw file: `data/raw/salifort_employee_attrition_raw.csv`  \n",
    "- Inspect data shape, columns, dtypes, and class balance of the target (`left`).  \n",
    "- Save outputs to `docs/reference/data_dictionary.md`.  \n",
    "- Do not perform cleaning or modeling at this stage.  \n",
    "\n",
    "**Contents**  \n",
    "- Import & settings  \n",
    "- Load dataset  \n",
    "- Inspect shape and datatypes  \n",
    "- Check target distribution  \n",
    "- Draft data dictionary  \n",
    "- Export markdown file  \n",
    "\n",
    "---"
   ]
  },
  {
   "cell_type": "markdown",
   "id": "a0f0fd6b-ac01-40bb-999b-b846e94c3f88",
   "metadata": {},
   "source": [
    "## 1. Imports & Settings"
   ]
  },
  {
   "cell_type": "code",
   "execution_count": 1,
   "id": "fae5dbc3",
   "metadata": {},
   "outputs": [],
   "source": [
    "import pandas as pd\n",
    "import numpy as np\n",
    "import matplotlib.pyplot as plt\n",
    "import seaborn as sns\n",
    "from pathlib import Path\n",
    "\n",
    "pd.set_option('display.max_columns', 100)\n",
    "pd.set_option('display.width', 120)\n",
    "%matplotlib inline"
   ]
  },
  {
   "cell_type": "code",
   "execution_count": 3,
   "id": "9d886d27-bcbd-467b-8430-c3b52688e193",
   "metadata": {},
   "outputs": [
    {
     "data": {
      "text/plain": [
       "['/home/admin/Documents/portfolio',\n",
       " '/home/admin/Documents/portfolio/coursework/google-advanced-data-analytics/employee_attrition_analysis/notebooks']"
      ]
     },
     "execution_count": 3,
     "metadata": {},
     "output_type": "execute_result"
    }
   ],
   "source": [
    "import sys; [p for p in sys.path if \"portfolio\" in p]"
   ]
  },
  {
   "cell_type": "code",
   "execution_count": 4,
   "id": "d19d1c13-0ca5-4823-9681-d099b2bd388a",
   "metadata": {},
   "outputs": [
    {
     "ename": "ModuleNotFoundError",
     "evalue": "No module named 'src'",
     "output_type": "error",
     "traceback": [
      "\u001b[0;31m---------------------------------------------------------------------------\u001b[0m",
      "\u001b[0;31mModuleNotFoundError\u001b[0m                       Traceback (most recent call last)",
      "Cell \u001b[0;32mIn[4], line 2\u001b[0m\n\u001b[1;32m      1\u001b[0m \u001b[38;5;66;03m# %% Accessibility setup for visuals (colorblind-friendly, high-contrast)\u001b[39;00m\n\u001b[0;32m----> 2\u001b[0m \u001b[38;5;28;01mfrom\u001b[39;00m\u001b[38;5;250m \u001b[39m\u001b[38;5;21;01msrc\u001b[39;00m\u001b[38;5;21;01m.\u001b[39;00m\u001b[38;5;21;01mviz_access\u001b[39;00m\u001b[38;5;250m \u001b[39m\u001b[38;5;28;01mimport\u001b[39;00m quick_accessibility_setup\n\u001b[1;32m      3\u001b[0m quick_accessibility_setup()\n",
      "\u001b[0;31mModuleNotFoundError\u001b[0m: No module named 'src'"
     ]
    }
   ],
   "source": [
    "# %% Accessibility setup for visuals (colorblind-friendly, high-contrast)\n",
    "from src.viz_access import quick_accessibility_setup\n",
    "quick_accessibility_setup()"
   ]
  },
  {
   "cell_type": "markdown",
   "id": "231ae016-29a0-44cb-863f-920ebd392a13",
   "metadata": {},
   "source": [
    "## 2. Data Loading"
   ]
  },
  {
   "cell_type": "code",
   "execution_count": 9,
   "id": "33dd3e43",
   "metadata": {},
   "outputs": [
    {
     "name": "stdout",
     "output_type": "stream",
     "text": [
      "✅ Loaded dataset from: /home/admin/Documents/portfolio/coursework/google-advanced-data-analytics/employee_attrition_analysis/data/raw/salifort_employee_attrition_raw.csv\n",
      "Shape: 14999 rows × 10 columns\n",
      "\n"
     ]
    }
   ],
   "source": [
    "# %% Data loading (robust)\n",
    "from pathlib import Path\n",
    "\n",
    "# Find project root dynamically by looking upward for the \"data\" folder\n",
    "current_dir = Path.cwd()\n",
    "while current_dir != current_dir.parent:  # stop at filesystem root\n",
    "    if (current_dir / \"data\" / \"raw\").exists():\n",
    "        PROJECT_ROOT = current_dir\n",
    "        break\n",
    "    current_dir = current_dir.parent\n",
    "else:\n",
    "    raise FileNotFoundError(\"❌ Could not locate project root containing 'data/raw'\")\n",
    "\n",
    "# Dataset path\n",
    "DATA_PATH = PROJECT_ROOT / \"data\" / \"raw\" / \"salifort_employee_attrition_raw.csv\"\n",
    "\n",
    "# Load\n",
    "df = pd.read_csv(DATA_PATH)\n",
    "\n",
    "print(f\"✅ Loaded dataset from: {DATA_PATH}\")\n",
    "print(f\"Shape: {df.shape[0]} rows × {df.shape[1]} columns\\n\")"
   ]
  },
  {
   "cell_type": "markdown",
   "id": "a3a45417-b016-4014-9b85-8ee73244a03f",
   "metadata": {},
   "source": [
    "## 3. Initial Inspection"
   ]
  },
  {
   "cell_type": "code",
   "execution_count": 14,
   "id": "20fcec17-c7fd-4b49-9719-7b6b746ee7a0",
   "metadata": {},
   "outputs": [
    {
     "name": "stdout",
     "output_type": "stream",
     "text": [
      "<class 'pandas.core.frame.DataFrame'>\n",
      "RangeIndex: 14999 entries, 0 to 14998\n",
      "Data columns (total 10 columns):\n",
      " #   Column                 Non-Null Count  Dtype  \n",
      "---  ------                 --------------  -----  \n",
      " 0   satisfaction_level     14999 non-null  float64\n",
      " 1   last_evaluation        14999 non-null  float64\n",
      " 2   number_project         14999 non-null  int64  \n",
      " 3   average_montly_hours   14999 non-null  int64  \n",
      " 4   time_spend_company     14999 non-null  int64  \n",
      " 5   Work_accident          14999 non-null  int64  \n",
      " 6   left                   14999 non-null  int64  \n",
      " 7   promotion_last_5years  14999 non-null  int64  \n",
      " 8   Department             14999 non-null  object \n",
      " 9   salary                 14999 non-null  object \n",
      "dtypes: float64(2), int64(6), object(2)\n",
      "memory usage: 1.1+ MB\n"
     ]
    },
    {
     "data": {
      "text/html": [
       "<div>\n",
       "<style scoped>\n",
       "    .dataframe tbody tr th:only-of-type {\n",
       "        vertical-align: middle;\n",
       "    }\n",
       "\n",
       "    .dataframe tbody tr th {\n",
       "        vertical-align: top;\n",
       "    }\n",
       "\n",
       "    .dataframe thead th {\n",
       "        text-align: right;\n",
       "    }\n",
       "</style>\n",
       "<table border=\"1\" class=\"dataframe\">\n",
       "  <thead>\n",
       "    <tr style=\"text-align: right;\">\n",
       "      <th></th>\n",
       "      <th>satisfaction_level</th>\n",
       "      <th>last_evaluation</th>\n",
       "      <th>number_project</th>\n",
       "      <th>average_montly_hours</th>\n",
       "      <th>time_spend_company</th>\n",
       "      <th>Work_accident</th>\n",
       "      <th>left</th>\n",
       "      <th>promotion_last_5years</th>\n",
       "      <th>Department</th>\n",
       "      <th>salary</th>\n",
       "    </tr>\n",
       "  </thead>\n",
       "  <tbody>\n",
       "    <tr>\n",
       "      <th>0</th>\n",
       "      <td>0.38</td>\n",
       "      <td>0.53</td>\n",
       "      <td>2</td>\n",
       "      <td>157</td>\n",
       "      <td>3</td>\n",
       "      <td>0</td>\n",
       "      <td>1</td>\n",
       "      <td>0</td>\n",
       "      <td>sales</td>\n",
       "      <td>low</td>\n",
       "    </tr>\n",
       "    <tr>\n",
       "      <th>1</th>\n",
       "      <td>0.80</td>\n",
       "      <td>0.86</td>\n",
       "      <td>5</td>\n",
       "      <td>262</td>\n",
       "      <td>6</td>\n",
       "      <td>0</td>\n",
       "      <td>1</td>\n",
       "      <td>0</td>\n",
       "      <td>sales</td>\n",
       "      <td>medium</td>\n",
       "    </tr>\n",
       "    <tr>\n",
       "      <th>2</th>\n",
       "      <td>0.11</td>\n",
       "      <td>0.88</td>\n",
       "      <td>7</td>\n",
       "      <td>272</td>\n",
       "      <td>4</td>\n",
       "      <td>0</td>\n",
       "      <td>1</td>\n",
       "      <td>0</td>\n",
       "      <td>sales</td>\n",
       "      <td>medium</td>\n",
       "    </tr>\n",
       "    <tr>\n",
       "      <th>3</th>\n",
       "      <td>0.72</td>\n",
       "      <td>0.87</td>\n",
       "      <td>5</td>\n",
       "      <td>223</td>\n",
       "      <td>5</td>\n",
       "      <td>0</td>\n",
       "      <td>1</td>\n",
       "      <td>0</td>\n",
       "      <td>sales</td>\n",
       "      <td>low</td>\n",
       "    </tr>\n",
       "    <tr>\n",
       "      <th>4</th>\n",
       "      <td>0.37</td>\n",
       "      <td>0.52</td>\n",
       "      <td>2</td>\n",
       "      <td>159</td>\n",
       "      <td>3</td>\n",
       "      <td>0</td>\n",
       "      <td>1</td>\n",
       "      <td>0</td>\n",
       "      <td>sales</td>\n",
       "      <td>low</td>\n",
       "    </tr>\n",
       "  </tbody>\n",
       "</table>\n",
       "</div>"
      ],
      "text/plain": [
       "   satisfaction_level  last_evaluation  number_project  average_montly_hours  time_spend_company  Work_accident  left  \\\n",
       "0                0.38             0.53               2                   157                   3              0     1   \n",
       "1                0.80             0.86               5                   262                   6              0     1   \n",
       "2                0.11             0.88               7                   272                   4              0     1   \n",
       "3                0.72             0.87               5                   223                   5              0     1   \n",
       "4                0.37             0.52               2                   159                   3              0     1   \n",
       "\n",
       "   promotion_last_5years Department  salary  \n",
       "0                      0      sales     low  \n",
       "1                      0      sales  medium  \n",
       "2                      0      sales  medium  \n",
       "3                      0      sales     low  \n",
       "4                      0      sales     low  "
      ]
     },
     "metadata": {},
     "output_type": "display_data"
    },
    {
     "data": {
      "text/html": [
       "<div>\n",
       "<style scoped>\n",
       "    .dataframe tbody tr th:only-of-type {\n",
       "        vertical-align: middle;\n",
       "    }\n",
       "\n",
       "    .dataframe tbody tr th {\n",
       "        vertical-align: top;\n",
       "    }\n",
       "\n",
       "    .dataframe thead th {\n",
       "        text-align: right;\n",
       "    }\n",
       "</style>\n",
       "<table border=\"1\" class=\"dataframe\">\n",
       "  <thead>\n",
       "    <tr style=\"text-align: right;\">\n",
       "      <th></th>\n",
       "      <th>dtype</th>\n",
       "      <th>n_unique</th>\n",
       "      <th>n_missing</th>\n",
       "      <th>missing_pct</th>\n",
       "    </tr>\n",
       "  </thead>\n",
       "  <tbody>\n",
       "    <tr>\n",
       "      <th>satisfaction_level</th>\n",
       "      <td>float64</td>\n",
       "      <td>92</td>\n",
       "      <td>0</td>\n",
       "      <td>0.0</td>\n",
       "    </tr>\n",
       "    <tr>\n",
       "      <th>last_evaluation</th>\n",
       "      <td>float64</td>\n",
       "      <td>65</td>\n",
       "      <td>0</td>\n",
       "      <td>0.0</td>\n",
       "    </tr>\n",
       "    <tr>\n",
       "      <th>number_project</th>\n",
       "      <td>int64</td>\n",
       "      <td>6</td>\n",
       "      <td>0</td>\n",
       "      <td>0.0</td>\n",
       "    </tr>\n",
       "    <tr>\n",
       "      <th>average_montly_hours</th>\n",
       "      <td>int64</td>\n",
       "      <td>215</td>\n",
       "      <td>0</td>\n",
       "      <td>0.0</td>\n",
       "    </tr>\n",
       "    <tr>\n",
       "      <th>time_spend_company</th>\n",
       "      <td>int64</td>\n",
       "      <td>8</td>\n",
       "      <td>0</td>\n",
       "      <td>0.0</td>\n",
       "    </tr>\n",
       "    <tr>\n",
       "      <th>Work_accident</th>\n",
       "      <td>int64</td>\n",
       "      <td>2</td>\n",
       "      <td>0</td>\n",
       "      <td>0.0</td>\n",
       "    </tr>\n",
       "    <tr>\n",
       "      <th>left</th>\n",
       "      <td>int64</td>\n",
       "      <td>2</td>\n",
       "      <td>0</td>\n",
       "      <td>0.0</td>\n",
       "    </tr>\n",
       "    <tr>\n",
       "      <th>promotion_last_5years</th>\n",
       "      <td>int64</td>\n",
       "      <td>2</td>\n",
       "      <td>0</td>\n",
       "      <td>0.0</td>\n",
       "    </tr>\n",
       "    <tr>\n",
       "      <th>Department</th>\n",
       "      <td>object</td>\n",
       "      <td>10</td>\n",
       "      <td>0</td>\n",
       "      <td>0.0</td>\n",
       "    </tr>\n",
       "    <tr>\n",
       "      <th>salary</th>\n",
       "      <td>object</td>\n",
       "      <td>3</td>\n",
       "      <td>0</td>\n",
       "      <td>0.0</td>\n",
       "    </tr>\n",
       "  </tbody>\n",
       "</table>\n",
       "</div>"
      ],
      "text/plain": [
       "                         dtype  n_unique  n_missing  missing_pct\n",
       "satisfaction_level     float64        92          0          0.0\n",
       "last_evaluation        float64        65          0          0.0\n",
       "number_project           int64         6          0          0.0\n",
       "average_montly_hours     int64       215          0          0.0\n",
       "time_spend_company       int64         8          0          0.0\n",
       "Work_accident            int64         2          0          0.0\n",
       "left                     int64         2          0          0.0\n",
       "promotion_last_5years    int64         2          0          0.0\n",
       "Department              object        10          0          0.0\n",
       "salary                  object         3          0          0.0"
      ]
     },
     "execution_count": 14,
     "metadata": {},
     "output_type": "execute_result"
    }
   ],
   "source": [
    "# %% Initial Inspection\n",
    "\n",
    "# Schema overview\n",
    "df.info()\n",
    "\n",
    "# Preview first rows\n",
    "display(df.head())\n",
    "\n",
    "# Column summary\n",
    "col_summary = pd.DataFrame({\n",
    "    \"dtype\": df.dtypes,\n",
    "    \"n_unique\": df.nunique(),\n",
    "    \"n_missing\": df.isna().sum(),\n",
    "    \"missing_pct\": (df.isna().mean() * 100).round(2)\n",
    "})\n",
    "col_summary"
   ]
  },
  {
   "cell_type": "markdown",
   "id": "de828c55-14e4-4f0b-82f6-5aa3df4bfe40",
   "metadata": {},
   "source": [
    "## 4. Target Variable Distribution"
   ]
  },
  {
   "cell_type": "code",
   "execution_count": 11,
   "id": "c0081707-bd87-49ce-811f-de9e5c1741c5",
   "metadata": {},
   "outputs": [
    {
     "name": "stdout",
     "output_type": "stream",
     "text": [
      "left\n",
      "0    0.761917\n",
      "1    0.238083\n",
      "Name: proportion, dtype: float64\n"
     ]
    },
    {
     "data": {
      "image/png": "[encoded data removed]",
      "text/plain": [
       "<Figure size 640x480 with 1 Axes>"
      ]
     },
     "metadata": {},
     "output_type": "display_data"
    }
   ],
   "source": [
    "target_col = \"left\"\n",
    "print(df[target_col].value_counts(normalize=True).rename(\"proportion\"))\n",
    "sns.countplot(x=target_col, data=df)\n",
    "plt.title(\"Attrition (0 = Stayed, 1 = Left)\")\n",
    "plt.show()"
   ]
  }
 ],
 "metadata": {
  "kernelspec": {
   "display_name": "Python 3 (ipykernel)",
   "language": "python",
   "name": "python3"
  },
  "language_info": {
   "codemirror_mode": {
    "name": "ipython",
    "version": 3
   },
   "file_extension": ".py",
   "mimetype": "text/x-python",
   "name": "python",
   "nbconvert_exporter": "python",
   "pygments_lexer": "ipython3",
   "version": "3.10.12"
  }
 },
 "nbformat": 4,
 "nbformat_minor": 5
}
