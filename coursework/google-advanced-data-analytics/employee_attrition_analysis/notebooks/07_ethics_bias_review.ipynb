{
 "cells": [
  {
   "cell_type": "markdown",
   "id": "bedbccdf",
   "metadata": {},
   "source": [
    "# Employee Attrition Analysis — 07: Ethics & Bias Review\n",
    "\n",
    "***Examining fairness, risks, and ethical implications of modeling employee attrition***\n",
    "\n",
    "**Author:** Katherine Ygbuhay  \n",
    "**Updated:** 2025-01-04  \n",
    "**Stage:** 07 — Ethics & Bias Review  \n",
    "**Runtime:** ~15 minutes  \n",
    "\n",
    "## Objective\n",
    "\n",
    "Identify and document potential ethical concerns, bias risks, and fairness implications in the attrition modeling workflow to ensure responsible AI deployment.\n",
    "\n",
    "## Scope & Approach\n",
    "\n",
    "- **Proxy feature analysis** to identify variables that may encode protected attributes or historical inequities\n",
    "- **Disparate impact assessment** examining attrition prediction differences across demographic groups  \n",
    "- **False positive/negative risk analysis** with business impact considerations\n",
    "- **Mitigation strategy documentation** for responsible model deployment\n",
    "\n",
    "## Key Outputs\n",
    "\n",
    "- Ethical risk assessment with documented bias concerns\n",
    "- Subgroup analysis revealing potential disparate impacts\n",
    "- Comprehensive mitigation strategy for responsible deployment\n",
    "- Stakeholder-ready ethics documentation in `docs/notes/ethics_bias_review.md`\n",
    "\n",
    "## Prerequisites\n",
    "\n",
    "- Completed attrition modeling pipeline with performance metrics\n",
    "- Understanding of HR policy context and legal requirements\n",
    "- Access to cleaned employee dataset with demographic proxies\n",
    "\n",
    "---"
   ]
  },
  {
   "cell_type": "markdown",
   "id": "547b052b-2076-4a8c-b456-9b1321baf6f0",
   "metadata": {},
   "source": [
    "## 1. Imports & Setup"
   ]
  },
  {
   "cell_type": "code",
   "execution_count": 1,
   "id": "038a4656",
   "metadata": {},
   "outputs": [
    {
     "name": "stdout",
     "output_type": "stream",
     "text": [
      "🎨 Accessibility defaults applied (colorblind palette, high-contrast, safe colormap).\n",
      "✅ Accessibility defaults applied\n",
      "📁 Project root → /home/admin/Documents/portfolio/coursework/google-advanced-data-analytics/employee_attrition_analysis\n",
      "✅ Loaded PROC: data/processed/salifort_employee_attrition_cleaned.csv | shape=(14999, 11)\n",
      "Project root: /home/admin/Documents/portfolio/coursework/google-advanced-data-analytics/employee_attrition_analysis\n",
      "Processed path: /home/admin/Documents/portfolio/coursework/google-advanced-data-analytics/employee_attrition_analysis/data/processed/salifort_employee_attrition_cleaned.csv\n",
      "✅ Using: data/processed/salifort_employee_attrition_cleaned.csv | shape=(14999, 11)\n"
     ]
    }
   ],
   "source": [
    "# Core stack\n",
    "import os\n",
    "import numpy as np, pandas as pd, matplotlib.pyplot as plt, seaborn as sns\n",
    "\n",
    "# Project bootstrap (paths, theme, accessibility) and notes helper\n",
    "from src.bootstrap import setup_notebook, write_notes\n",
    "\n",
    "# Visualization defaults (font sizes, title casing helpers)\n",
    "from src.viz_helpers import apply_plot_rc_defaults, pretty_label\n",
    "\n",
    "# Dataset artifact names\n",
    "RAW_NAME  = \"salifort_employee_attrition_raw.csv\"\n",
    "PROC_NAME = \"salifort_employee_attrition_cleaned.csv\"\n",
    "\n",
    "# Pin the project (ensures paths resolve to the right case study)\n",
    "os.environ[\"PORTFOLIO_PROJECT\"] = \"employee_attrition_analysis\"\n",
    "\n",
    "# Initialize notebook (theme/seed/accessibility) and resolve project paths; load processed data\n",
    "P, df = setup_notebook(\n",
    "    raw_filename=RAW_NAME,\n",
    "    proc_filename=PROC_NAME,\n",
    "    load=\"proc\",   # load the cleaned dataset\n",
    "    verbose=True,\n",
    ")\n",
    "\n",
    "# Apply plotting rc defaults (accessibility + readability)\n",
    "apply_plot_rc_defaults()\n",
    "\n",
    "# Sanity echo\n",
    "print(\"Project root:\", P.ROOT)\n",
    "print(\"Processed path:\", P.PROC)\n",
    "assert P.PROC.exists(), f\"Processed file not found at {P.PROC}\"\n",
    "print(f\"✅ Using: {P.PROC.relative_to(P.ROOT)} | shape={df.shape}\")"
   ]
  },
  {
   "cell_type": "markdown",
   "id": "18d2683c-8038-4628-8c98-9a53ef660599",
   "metadata": {},
   "source": [
    "## 2. Identify Sensitive/Proxy Features\n",
    "\n",
    "We inspect columns that may act as **proxies** for protected attributes or encode historical inequities. Candidates include:\n",
    "\n",
    "- **Department** → potential proxy for occupational segregation  \n",
    "- **Salary (band/level)** → potential proxy for socioeconomic status and historical pay gaps  \n",
    "- **Tenure / Time at Company** → potential proxy for age (tenure often correlates with age)  \n",
    "- **Performance / Promotions** (if present) → can encode historical bias in evaluation processes  \n",
    "\n",
    "We also compute attrition rate deltas by group to surface potential disparities for qualitative review (not a statistical test)."
   ]
  },
  {
   "cell_type": "code",
   "execution_count": 2,
   "id": "7643a371-bc8f-4dc9-a195-e850e8bd9ef0",
   "metadata": {},
   "outputs": [
    {
     "name": "stdout",
     "output_type": "stream",
     "text": [
      "🔎 Proxy candidates (by name heuristic): ['Department', 'promotion_last_5years', 'salary', 'salary_level', 'time_spend_company']\n",
      "Categorical: ['Department', 'salary']\n",
      "Numeric: ['satisfaction_level', 'last_evaluation', 'number_project', 'average_montly_hours', 'time_spend_company', 'Work_accident', 'promotion_last_5years', 'salary_level']\n",
      "⬇️ Candidate disparity snapshots:\n",
      "\n",
      "\n",
      "### salary\n"
     ]
    },
    {
     "data": {
      "text/html": [
       "<style type=\"text/css\">\n",
       "</style>\n",
       "<table id=\"T_4d613\">\n",
       "  <thead>\n",
       "    <tr>\n",
       "      <th class=\"blank level0\" >&nbsp;</th>\n",
       "      <th id=\"T_4d613_level0_col0\" class=\"col_heading level0 col0\" >count</th>\n",
       "      <th id=\"T_4d613_level0_col1\" class=\"col_heading level0 col1\" >attrition_rate</th>\n",
       "    </tr>\n",
       "    <tr>\n",
       "      <th class=\"index_name level0\" >salary</th>\n",
       "      <th class=\"blank col0\" >&nbsp;</th>\n",
       "      <th class=\"blank col1\" >&nbsp;</th>\n",
       "    </tr>\n",
       "  </thead>\n",
       "  <tbody>\n",
       "    <tr>\n",
       "      <th id=\"T_4d613_level0_row0\" class=\"row_heading level0 row0\" >low</th>\n",
       "      <td id=\"T_4d613_row0_col0\" class=\"data row0 col0\" >1237</td>\n",
       "      <td id=\"T_4d613_row0_col1\" class=\"data row0 col1\" >0.297</td>\n",
       "    </tr>\n",
       "    <tr>\n",
       "      <th id=\"T_4d613_level0_row1\" class=\"row_heading level0 row1\" >medium</th>\n",
       "      <td id=\"T_4d613_row1_col0\" class=\"data row1 col0\" >7316</td>\n",
       "      <td id=\"T_4d613_row1_col1\" class=\"data row1 col1\" >0.204</td>\n",
       "    </tr>\n",
       "    <tr>\n",
       "      <th id=\"T_4d613_level0_row2\" class=\"row_heading level0 row2\" >high</th>\n",
       "      <td id=\"T_4d613_row2_col0\" class=\"data row2 col0\" >6446</td>\n",
       "      <td id=\"T_4d613_row2_col1\" class=\"data row2 col1\" >0.066</td>\n",
       "    </tr>\n",
       "  </tbody>\n",
       "</table>\n"
      ],
      "text/plain": [
       "<pandas.io.formats.style.Styler at 0x7488181a6650>"
      ]
     },
     "metadata": {},
     "output_type": "display_data"
    }
   ],
   "source": [
    "# --- Defensive proxy detection + disparity snapshots ---\n",
    "\n",
    "target_col = \"left\"\n",
    "if target_col not in df.columns:\n",
    "    raise KeyError(f\"Expected target column '{target_col}' not found in df.columns: {list(df.columns)}\")\n",
    "\n",
    "proxy_name_patterns = [\n",
    "    \"salary\", \"pay\", \"wage\",\n",
    "    \"dept\", \"department\", \"function\", \"role\", \"job\",\n",
    "    \"tenure\", \"time_spend_company\", \"years\", \"seniority\",\n",
    "    \"promotion\", \"performance\"\n",
    "]\n",
    "\n",
    "cols = df.columns.tolist()\n",
    "proxy_candidates = sorted({c for c in cols if any(pat in c.lower() for pat in proxy_name_patterns)})\n",
    "\n",
    "cat_cols = df.select_dtypes(include=\"object\").columns.tolist()\n",
    "num_cols = df.select_dtypes(include=\"number\").columns.tolist()\n",
    "\n",
    "print(\"🔎 Proxy candidates (by name heuristic):\", proxy_candidates)\n",
    "print(\"Categorical:\", cat_cols)\n",
    "print(\"Numeric:\", [c for c in num_cols if c != target_col])\n",
    "\n",
    "def rate_table_categorical(col):\n",
    "    if col not in df.columns or col not in cat_cols:\n",
    "        return None\n",
    "    t = (\n",
    "        df.groupby(col, dropna=False)[target_col]\n",
    "          .mean()\n",
    "          .rename(\"attrition_rate\")\n",
    "          .to_frame()\n",
    "          .sort_values(\"attrition_rate\", ascending=False)\n",
    "    )\n",
    "    t[\"count\"] = df.groupby(col, dropna=False)[target_col].size().values\n",
    "    return t[[\"count\", \"attrition_rate\"]]\n",
    "\n",
    "def bin_numeric_to_quartiles(col):\n",
    "    if col not in df.columns:\n",
    "        return None\n",
    "    try:\n",
    "        return pd.qcut(df[col], q=4, labels=[\"Q1 (low)\", \"Q2\", \"Q3\", \"Q4 (high)\"], duplicates=\"drop\")\n",
    "    except Exception:\n",
    "        return None\n",
    "\n",
    "def rate_table_numeric_quartiles(col):\n",
    "    if col not in df.columns or col not in num_cols or col == target_col:\n",
    "        return None\n",
    "    bucket = bin_numeric_to_quartiles(col)\n",
    "    if bucket is None:\n",
    "        return None\n",
    "    t = (\n",
    "        df.assign(_bucket=bucket)\n",
    "          .groupby(\"_bucket\", dropna=False)[target_col]\n",
    "          .mean()\n",
    "          .rename(\"attrition_rate\")\n",
    "          .to_frame()\n",
    "    )\n",
    "    t[\"count\"] = df.assign(_bucket=bucket).groupby(\"_bucket\")[target_col].size().values\n",
    "    return t[[\"count\", \"attrition_rate\"]]\n",
    "\n",
    "suspect_cat = [c for c in [\"department\", \"dept\", \"salary\"] if c in df.columns and c in cat_cols]\n",
    "suspect_num = [c for c in [\"time_spend_company\", \"tenure\", \"years_at_company\"] if c in df.columns and c in num_cols]\n",
    "\n",
    "group_views = {}\n",
    "for c in suspect_cat:\n",
    "    t = rate_table_categorical(c)\n",
    "    if t is not None:\n",
    "        group_views[c] = t\n",
    "\n",
    "for c in suspect_num:\n",
    "    t = rate_table_numeric_quartiles(c)\n",
    "    if t is not None:\n",
    "        group_views[c] = t\n",
    "\n",
    "def df_to_md(tdf):\n",
    "    if tdf is None or tdf.empty:\n",
    "        return \"_(no data / not applicable)_\"\n",
    "    tmp = tdf.copy()\n",
    "    tmp.index = tmp.index.astype(str)\n",
    "    tmp = tmp.reset_index().rename(columns={\"index\": \"group\"})\n",
    "    cols = tmp.columns.tolist()\n",
    "    lines = []\n",
    "    lines.append(\"| \" + \" | \".join(cols) + \" |\")\n",
    "    lines.append(\"| \" + \" | \".join([\"---\"] * len(cols)) + \" |\")\n",
    "    for _, row in tmp.iterrows():\n",
    "        lines.append(\"| \" + \" | \".join(str(v) for v in row.tolist()) + \" |\")\n",
    "    return \"\\n\".join(lines)\n",
    "\n",
    "print(\"⬇️ Candidate disparity snapshots:\\n\")\n",
    "for key, table in group_views.items():\n",
    "    print(f\"\\n### {key}\")\n",
    "    display((table.style.format({\"attrition_rate\": \"{:.3f}\"})) if table is not None else \"_(n/a)_\")\n"
   ]
  },
  {
   "cell_type": "markdown",
   "id": "9666de4a-148c-43bf-a0dc-34d4fa2ad877",
   "metadata": {},
   "source": [
    "## 3. Risks of False Positives vs False Negatives\n",
    "\n",
    "**Context.** Attrition modeling is used to target retention actions (e.g., outreach, incentives).  \n",
    "- **False Positive (FP):** model flags an employee as high risk, but they would have stayed.  \n",
    "  - *Impact:* unnecessary interventions, perceived surveillance, misallocation of budget.  \n",
    "- **False Negative (FN):** model predicts low risk, but employee actually leaves.  \n",
    "  - *Impact:* avoidable attrition cost, team disruption, knowledge loss.\n",
    "\n",
    "**Mitigation levers.**  \n",
    "- Calibrate decision thresholds to business objectives (precision for budget control vs recall for risk coverage).  \n",
    "- Layer **human-in-the-loop** review for high-stakes actions.  \n",
    "- Use opt-in, minimally invasive interventions; avoid punitive responses to “risk” labels. "
   ]
  },
  {
   "cell_type": "code",
   "execution_count": 3,
   "id": "09b4e02e-9a4d-4e83-9a26-6df1b9e1e5cf",
   "metadata": {},
   "outputs": [
    {
     "name": "stdout",
     "output_type": "stream",
     "text": [
      "Prevalence of attrition (left=1): 0.238 (3571/14999)\n"
     ]
    }
   ],
   "source": [
    "# --- Prevalence + a simple threshold thought-experiment (descriptive only) ---\n",
    "\n",
    "prevalence = df[\"left\"].mean()\n",
    "n = len(df)\n",
    "\n",
    "print(f\"Prevalence of attrition (left=1): {prevalence:.3f} ({int(prevalence*n)}/{n})\")\n",
    "\n",
    "# If you saved calibrated probabilities elsewhere, you could sweep thresholds here.\n",
    "# In this ethics nb, we keep it descriptive and policy-oriented."
   ]
  },
  {
   "cell_type": "markdown",
   "id": "d66ec67a-f0bb-48fb-88a6-f94fab9461a6",
   "metadata": {},
   "source": [
    "## 4. Ethical Risks & Mitigations\n",
    "\n",
    "**Potential sources of bias**\n",
    "- **Proxy variables:** salary bands and department can reflect historical and structural inequities.\n",
    "- **Sampling/measurement bias:** missing or inconsistently logged HR data can skew risk estimates.\n",
    "- **Optimization myopia:** optimizing a single metric (e.g., ROC-AUC) may ignore subgroup harms.\n",
    "\n",
    "**Mitigations we will adopt**\n",
    "- **Model scope:** exclude explicitly sensitive attributes; review proxy variables with HR/stakeholders.\n",
    "- **Regular audits:** monitor subgroup performance (precision/recall by department/salary bands).\n",
    "- **Threshold policy:** choose operating points jointly with HR; document the trade-offs.\n",
    "- **Use policy:** predictions inform supportive outreach only (no punitive or performance implications).\n",
    "- **Governance:** versioned documentation of model, data lineage, and changes; periodic revalidation.\n",
    "\n",
    "> Note: Feature importances and coefficients are **associational**, not causal. Findings must not be used to justify pay or staffing decisions without proper causal analysis and policy review.\n",
    "\n",
    "**Additional safeguards**\n",
    "- **Human-in-the-loop:** Model outputs are advisory. HR reviews every prediction before taking action to ensure context, nuance, and fairness are preserved.  \n",
    "- **Residual bias acknowledgment:** Even if proxy features are excluded (e.g., salary, department), correlated attributes may still leak bias. Regular monitoring for indirect discrimination is required.  \n",
    "- **Business alignment:** Predictions are aligned strictly with supportive retention strategies. They must never be used for performance evaluation, disciplinary actions, or hiring/firing decisions."
   ]
  },
  {
   "cell_type": "markdown",
   "id": "635895f0-e286-4784-88b8-bf13d599f254",
   "metadata": {},
   "source": [
    "## 5. Save Notes & Assessment Check\n",
    "\n",
    "We compile a portable Markdown summary (proxy features, simple disparity snapshots, risk/mitigation notes) and save it for reviewers. The assessment passes if key ethical concerns are explicitly documented."
   ]
  },
  {
   "cell_type": "code",
   "execution_count": 4,
   "id": "0066b3b6-6f92-4e14-9ac4-5a2654a1b7e0",
   "metadata": {},
   "outputs": [
    {
     "name": "stdout",
     "output_type": "stream",
     "text": [
      "📄 Wrote ethics notes → docs/notes/ethics_bias_review.md\n",
      "Checks: {'has_candidates': True, 'notes_written': True, 'explicit_risks': True, 'mitigations_listed': True}\n",
      "✅ Assessment passed — ethical concerns documented.\n"
     ]
    }
   ],
   "source": [
    "# Build a portable Markdown artifact for stakeholders\n",
    "from datetime import datetime\n",
    "\n",
    "sections = []\n",
    "\n",
    "sections.append(\"# Ethics & Bias Review\")\n",
    "sections.append(f\"_Updated: {datetime.now().strftime('%Y-%m-%d %H:%M')}_\\n\")\n",
    "\n",
    "# Proxy candidates\n",
    "sections.append(\"## Sensitive/Proxy Feature Candidates\")\n",
    "sections.append(f\"- Detected by name heuristic: {', '.join(proxy_candidates) if proxy_candidates else '_(none detected_)'}\")\n",
    "sections.append(f\"- Categorical columns: {', '.join(cat_cols) if cat_cols else '_(none_)'}\")\n",
    "sections.append(f\"- Numeric columns: {', '.join([c for c in num_cols if c != 'left']) if num_cols else '_(none_)'}\\n\")\n",
    "\n",
    "# Group views as markdown tables\n",
    "for key, table in group_views.items():\n",
    "    sections.append(f\"### Group Attrition Rate — {key}\")\n",
    "    sections.append(df_to_md(table))\n",
    "    sections.append(\"\")\n",
    "\n",
    "# FP/FN risks (short recap)\n",
    "sections.append(\"## False Positives vs False Negatives (Risks)\")\n",
    "sections.append(f\"- **Prevalence** of attrition (left=1): `{prevalence:.3f}`\")\n",
    "sections.append(\"- **FP risk**: unnecessary interventions, perceived monitoring, resource waste.\")\n",
    "sections.append(\"- **FN risk**: preventable attrition, cost, disruption.\\n\")\n",
    "\n",
    "# Ethical risks & mitigations (same as in notebook narrative)\n",
    "sections.append(\"## Ethical Risks & Mitigations\")\n",
    "sections.append(\"- Proxy variables (salary/department) may encode historical inequities.\")\n",
    "sections.append(\"- Mitigate via subgroup monitoring, threshold policy co-designed with HR, and supportive use only.\")\n",
    "sections.append(\"- Document model lineage; emphasize that associations ≠ causation.\\n\")\n",
    "\n",
    "notes_md = \"\\n\".join(sections)\n",
    "\n",
    "# Write to docs/modeling/\n",
    "dst = P.DOCS / \"notes\" / \"ethics_bias_review.md\"\n",
    "dst.parent.mkdir(parents=True, exist_ok=True)\n",
    "dst.write_text(notes_md, encoding=\"utf-8\")\n",
    "print(\"📄 Wrote ethics notes →\", dst.relative_to(P.ROOT))\n",
    "\n",
    "# Assessment check: ensure core elements exist\n",
    "checks = {\n",
    "    \"has_candidates\": bool(proxy_candidates),\n",
    "    \"notes_written\": dst.exists(),\n",
    "    \"explicit_risks\": True,     # captured in narrative\n",
    "    \"mitigations_listed\": True, # captured in narrative\n",
    "}\n",
    "print(\"Checks:\", checks)\n",
    "assert all(checks.values()), \"❌ Assessment failed — ensure candidates/risks/mitigations are documented.\"\n",
    "print(\"✅ Assessment passed — ethical concerns documented.\")"
   ]
  },
  {
   "cell_type": "markdown",
   "id": "cf03ead3-ab19-40ab-a3a1-9435869544f6",
   "metadata": {},
   "source": [
    "## 6. Disparity Visuals (Optional)\n",
    "\n",
    "Quick diagnostic charts to illustrate differences in attrition rates by salary band and department. These are exploratory only, not causal.\n"
   ]
  },
  {
   "cell_type": "code",
   "execution_count": 5,
   "id": "db0f531e-fdac-431d-a5be-1d4553621854",
   "metadata": {},
   "outputs": [
    {
     "data": {
      "image/png": "[encoded data removed]",
      "text/plain": [
       "<Figure size 600x300 with 1 Axes>"
      ]
     },
     "metadata": {},
     "output_type": "display_data"
    }
   ],
   "source": [
    "# Mini-bars for disparities (salary/department if present)\n",
    "\n",
    "\n",
    "if \"salary\" in df.columns and \"left\" in df.columns:\n",
    "    ax = (\n",
    "        df.groupby(\"salary\")[\"left\"]\n",
    "          .mean()\n",
    "          .sort_values(ascending=False)\n",
    "          .plot(kind=\"bar\", figsize=(6,3), rot=0, title=\"Attrition Rate by Salary\")\n",
    "    )\n",
    "    plt.tight_layout()\n",
    "    plt.show()\n",
    "\n",
    "if \"department\" in df.columns and \"left\" in df.columns:\n",
    "    ax = (\n",
    "        df.groupby(\"department\")[\"left\"]\n",
    "          .mean()\n",
    "          .sort_values(ascending=False)\n",
    "          .plot(kind=\"bar\", figsize=(6,3), rot=45, title=\"Attrition Rate by Department\")\n",
    "    )\n",
    "    plt.tight_layout()\n",
    "    plt.show()"
   ]
  },
  {
   "cell_type": "markdown",
   "id": "ec1361ab-1866-48ef-8425-85fa62a8b23b",
   "metadata": {},
   "source": [
    "## Ethical Considerations — Conclusion\n",
    "\n",
    "This stage explicitly examined the **fairness and risk dimensions** of attrition modeling. Proxy variables (notably department, salary, and tenure-related features) were highlighted as potential sources of indirect bias. We also documented risks for both **false positives** (e.g., wasted resources, unnecessary monitoring) and **false negatives** (e.g., missed opportunities for retention support).  \n",
    "\n",
    "Key communication points for stakeholders:  \n",
    "- **No causal claims:** Coefficients and feature importances are associative, not causal.  \n",
    "- **Decision support, not automation:** Predicted risk scores must complement—not replace—human judgment and HR policy.  \n",
    "- **Subgroup monitoring:** Regular audits of precision/recall across departments and salary bands are required.  \n",
    "- **Policy guardrails:** Outputs should inform supportive outreach only, with transparent governance and HR/legal oversight.  \n",
    "\n",
    "✅ Assessment check passed — ethical concerns were surfaced in a dedicated, version-controlled document (`docs/notes/ethics_bias_review.md`), ensuring traceability alongside technical results.  "
   ]
  }
 ],
 "metadata": {
  "kernelspec": {
   "display_name": "Python 3 (ipykernel)",
   "language": "python",
   "name": "python3"
  },
  "language_info": {
   "codemirror_mode": {
    "name": "ipython",
    "version": 3
   },
   "file_extension": ".py",
   "mimetype": "text/x-python",
   "name": "python",
   "nbconvert_exporter": "python",
   "pygments_lexer": "ipython3",
   "version": "3.10.12"
  }
 },
 "nbformat": 4,
 "nbformat_minor": 5
}
